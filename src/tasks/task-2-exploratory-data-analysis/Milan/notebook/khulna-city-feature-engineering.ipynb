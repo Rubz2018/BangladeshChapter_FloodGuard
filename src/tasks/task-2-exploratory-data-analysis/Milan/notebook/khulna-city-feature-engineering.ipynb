{
 "cells": [
  {
   "cell_type": "markdown",
   "id": "3b931830-b9b6-4ab2-bf5e-7d58aee63e4e",
   "metadata": {},
   "source": [
    "## Feature engineering task on Khulna-City  using ML models"
   ]
  },
  {
   "cell_type": "markdown",
   "id": "aeac1daf-0094-45b9-819c-45b04ea7aa99",
   "metadata": {},
   "source": [
    "### Import libraries"
   ]
  },
  {
   "cell_type": "code",
   "execution_count": 1,
   "id": "5799ef74-b07b-43d5-ac7c-5c53f41744cd",
   "metadata": {},
   "outputs": [],
   "source": [
    "import pandas as pd\n",
    "import numpy as np\n",
    "import imblearn\n",
    "\n",
    "\n",
    "import seaborn as sns # To load the titanic data set too\n",
    "import matplotlib.pyplot as plt\n",
    "\n",
    "from sklearn.model_selection import train_test_split\n",
    "from sklearn.tree import DecisionTreeClassifier\n",
    "from sklearn.tree import plot_tree # to visualize the Tree\n",
    "from sklearn.ensemble import RandomForestClassifier\n",
    "\n",
    "from imblearn.over_sampling import SMOTE\n",
    "from sklearn.datasets import make_classification\n",
    "from sklearn.model_selection import train_test_split\n",
    "from sklearn.metrics import classification_report\n",
    "from sklearn.ensemble import RandomForestClassifier\n",
    "\n",
    "\n",
    "from imblearn.under_sampling import RandomUnderSampler\n",
    "\n",
    "from sklearn.preprocessing import StandardScaler\n",
    "\n",
    "from sklearn.linear_model import LinearRegression, Ridge, RidgeCV,Ridge, Lasso, LassoCV\n",
    "from sklearn.model_selection import train_test_split, cross_val_score\n",
    "\n",
    "from sklearn.metrics import mean_squared_error\n",
    "from sklearn.metrics import accuracy_score, confusion_matrix, classification_report\n",
    "from sklearn.metrics import roc_curve, roc_auc_score\n",
    "\n",
    "import warnings\n",
    "warnings.filterwarnings('ignore')"
   ]
  },
  {
   "cell_type": "code",
   "execution_count": 2,
   "id": "93d5453b-a649-4762-a4e2-1ae22a80b407",
   "metadata": {},
   "outputs": [
    {
     "name": "stdout",
     "output_type": "stream",
     "text": [
      "Shape of Khulna city weather dataset is: (3515, 45)\n"
     ]
    }
   ],
   "source": [
    "khulna_weather_df=pd.read_csv(\"../data/khulna_Weather_combined.csv\")\n",
    "\n",
    "print(f'Shape of Khulna city weather dataset is: {khulna_weather_df.shape}')"
   ]
  },
  {
   "cell_type": "code",
   "execution_count": 3,
   "id": "3cf5efb5-268d-4743-91bd-f880924c8ec3",
   "metadata": {},
   "outputs": [
    {
     "data": {
      "text/plain": [
       "Index(['datetime', 'Unnamed: 0_x', 'name', 'tempmax_x', 'tempmin_x', 'temp',\n",
       "       'feelslikemax', 'feelslikemin', 'feelslike', 'dew', 'humidity',\n",
       "       'precip', 'precipprob', 'precipcover', 'preciptype', 'snow',\n",
       "       'snowdepth', 'windgust', 'windspeed_x', 'winddir', 'sealevelpressure',\n",
       "       'cloudcover', 'visibility', 'solarradiation', 'solarenergy', 'uvindex',\n",
       "       'severerisk', 'sunrise', 'sunset', 'moonphase', 'conditions',\n",
       "       'Unnamed: 0.1', 'Unnamed: 0_y', 'river_discharge', 'Unnamed: 0',\n",
       "       'weathercode', 'tempmax_y', 'tempmin_y', 'temperature_2m_mean',\n",
       "       'apparent_temperature_mean', 'precipitation_sum', 'rain_sum',\n",
       "       'precipitation_hours', 'windspeed_y', 'et0_fao_evapotranspiration'],\n",
       "      dtype='object')"
      ]
     },
     "execution_count": 3,
     "metadata": {},
     "output_type": "execute_result"
    }
   ],
   "source": [
    "khulna_weather_df.columns"
   ]
  },
  {
   "cell_type": "code",
   "execution_count": 4,
   "id": "7c9a604c-15cb-4316-867c-dbed88846287",
   "metadata": {},
   "outputs": [
    {
     "name": "stdout",
     "output_type": "stream",
     "text": [
      "<class 'pandas.core.frame.DataFrame'>\n",
      "RangeIndex: 3515 entries, 0 to 3514\n",
      "Data columns (total 45 columns):\n",
      " #   Column                      Non-Null Count  Dtype  \n",
      "---  ------                      --------------  -----  \n",
      " 0   datetime                    3515 non-null   object \n",
      " 1   Unnamed: 0_x                3515 non-null   int64  \n",
      " 2   name                        3515 non-null   object \n",
      " 3   tempmax_x                   3515 non-null   float64\n",
      " 4   tempmin_x                   3515 non-null   float64\n",
      " 5   temp                        3515 non-null   float64\n",
      " 6   feelslikemax                3515 non-null   float64\n",
      " 7   feelslikemin                3515 non-null   float64\n",
      " 8   feelslike                   3515 non-null   float64\n",
      " 9   dew                         3515 non-null   float64\n",
      " 10  humidity                    3515 non-null   float64\n",
      " 11  precip                      3515 non-null   float64\n",
      " 12  precipprob                  3515 non-null   float64\n",
      " 13  precipcover                 3515 non-null   float64\n",
      " 14  preciptype                  1805 non-null   object \n",
      " 15  snow                        585 non-null    float64\n",
      " 16  snowdepth                   587 non-null    float64\n",
      " 17  windgust                    608 non-null    float64\n",
      " 18  windspeed_x                 3515 non-null   float64\n",
      " 19  winddir                     3515 non-null   float64\n",
      " 20  sealevelpressure            2914 non-null   float64\n",
      " 21  cloudcover                  3515 non-null   float64\n",
      " 22  visibility                  2913 non-null   float64\n",
      " 23  solarradiation              3515 non-null   float64\n",
      " 24  solarenergy                 3515 non-null   float64\n",
      " 25  uvindex                     3515 non-null   float64\n",
      " 26  severerisk                  585 non-null    float64\n",
      " 27  sunrise                     3515 non-null   object \n",
      " 28  sunset                      3515 non-null   object \n",
      " 29  moonphase                   3515 non-null   float64\n",
      " 30  conditions                  3515 non-null   object \n",
      " 31  Unnamed: 0.1                3515 non-null   int64  \n",
      " 32  Unnamed: 0_y                3515 non-null   int64  \n",
      " 33  river_discharge             3515 non-null   float64\n",
      " 34  Unnamed: 0                  3515 non-null   int64  \n",
      " 35  weathercode                 3515 non-null   int64  \n",
      " 36  tempmax_y                   3515 non-null   float64\n",
      " 37  tempmin_y                   3515 non-null   float64\n",
      " 38  temperature_2m_mean         3515 non-null   float64\n",
      " 39  apparent_temperature_mean   3515 non-null   float64\n",
      " 40  precipitation_sum           3515 non-null   float64\n",
      " 41  rain_sum                    3515 non-null   float64\n",
      " 42  precipitation_hours         3515 non-null   float64\n",
      " 43  windspeed_y                 3515 non-null   float64\n",
      " 44  et0_fao_evapotranspiration  3515 non-null   float64\n",
      "dtypes: float64(34), int64(5), object(6)\n",
      "memory usage: 1.2+ MB\n"
     ]
    }
   ],
   "source": [
    "khulna_weather_df.info()"
   ]
  },
  {
   "cell_type": "markdown",
   "id": "fdbe5834-35aa-4029-a9c9-8ba7796a496b",
   "metadata": {},
   "source": [
    "### Data Cleaning"
   ]
  },
  {
   "cell_type": "code",
   "execution_count": 5,
   "id": "032a478f-22f5-417d-8640-4aebc732ee76",
   "metadata": {},
   "outputs": [
    {
     "data": {
      "text/plain": [
       "array(['Partially cloudy', 'Rain, Partially cloudy', 'Clear', 'Rain',\n",
       "       'Rain, Overcast', 'Overcast'], dtype=object)"
      ]
     },
     "execution_count": 5,
     "metadata": {},
     "output_type": "execute_result"
    }
   ],
   "source": [
    "khulna_weather_df.conditions.unique()"
   ]
  },
  {
   "cell_type": "code",
   "execution_count": 6,
   "id": "5ad3af2a-2315-4606-be71-ce7aed057e5c",
   "metadata": {},
   "outputs": [
    {
     "data": {
      "text/plain": [
       "array([nan, 'rain'], dtype=object)"
      ]
     },
     "execution_count": 6,
     "metadata": {},
     "output_type": "execute_result"
    }
   ],
   "source": [
    "khulna_weather_df.preciptype.unique()"
   ]
  },
  {
   "cell_type": "code",
   "execution_count": 7,
   "id": "ce3daea0-d192-4418-9339-5f62ebbb717b",
   "metadata": {},
   "outputs": [
    {
     "data": {
      "text/plain": [
       "array([0.000e+00, 9.000e-01, 3.000e-01, 1.000e-01, 1.560e+01, 3.400e+00,\n",
       "       4.700e+00, 7.500e+00, 6.200e+00, 2.700e+00, 2.240e+01, 1.920e+01,\n",
       "       1.750e+01, 1.060e+01, 1.330e+01, 4.450e+01, 2.010e+01, 1.790e+01,\n",
       "       6.700e+00, 1.050e+01, 3.100e+00, 8.000e-01, 2.500e+00, 4.280e+01,\n",
       "       5.100e+00, 8.200e+00, 1.200e+00, 2.470e+01, 6.900e+00, 9.100e+00,\n",
       "       4.400e+00, 3.490e+01, 1.700e+00, 3.520e+01, 9.700e+00, 1.370e+01,\n",
       "       5.300e+00, 1.080e+01, 5.200e+00, 2.110e+01, 3.810e+01, 1.500e+01,\n",
       "       1.220e+01, 1.340e+01, 1.600e+00, 1.400e+00, 2.100e+00, 2.230e+01,\n",
       "       1.980e+01, 3.600e+00, 4.000e-01, 1.900e+00, 2.900e+00, 1.800e+01,\n",
       "       1.000e+00, 1.300e+00, 9.000e+00, 2.800e+00, 9.600e+00, 3.700e+00,\n",
       "       4.160e+01, 2.990e+01, 1.360e+01, 1.120e+01, 6.800e+00, 3.900e+00,\n",
       "       2.860e+01, 1.850e+01, 1.100e+01, 5.500e+01, 8.100e+00, 1.150e+01,\n",
       "       2.400e+00, 2.380e+01, 1.420e+01, 1.230e+01, 5.800e+00, 7.200e+00,\n",
       "       1.160e+01, 1.280e+01, 2.000e+00, 6.600e+00, 1.710e+01, 3.700e+01,\n",
       "       2.220e+01, 1.840e+01, 9.200e+00, 1.490e+01, 4.200e+00, 2.000e-01,\n",
       "       4.800e+00, 1.200e+01, 4.230e+01, 8.600e+00, 1.430e+01, 8.800e+00,\n",
       "       8.500e+00, 3.840e+01, 9.800e+00, 3.200e+00, 5.600e+00, 6.100e+00,\n",
       "       3.290e+01, 2.600e+00, 2.310e+01, 5.900e+00, 3.690e+01, 1.540e+01,\n",
       "       2.830e+01, 1.670e+01, 7.400e+00, 1.960e+01, 1.005e+02, 5.140e+01,\n",
       "       2.000e+01, 7.600e+00, 6.500e+00, 4.000e+01, 1.040e+01, 1.510e+01,\n",
       "       2.200e+00, 2.590e+01, 1.700e+01, 2.040e+01, 2.390e+01, 6.400e+00,\n",
       "       8.400e+00, 2.210e+01, 7.300e+00, 1.820e+01, 6.000e+00, 7.000e+00,\n",
       "       5.050e+01, 5.000e-01, 9.500e+00, 2.260e+01, 3.250e+01, 9.900e+00,\n",
       "       3.300e+00, 4.600e+01, 1.780e+01, 2.200e+01, 1.250e+01, 3.270e+01,\n",
       "       1.580e+01, 3.500e+00, 6.460e+01, 1.520e+01, 3.000e+00, 1.010e+01,\n",
       "       6.000e-01, 1.860e+01, 7.000e-01, 1.020e+01, 4.500e+00, 1.270e+01,\n",
       "       3.150e+01, 8.900e+00, 1.900e+01, 9.400e+00, 1.470e+01, 2.490e+01,\n",
       "       1.550e+01, 1.380e+01, 1.190e+01, 2.100e+01, 1.910e+01, 2.940e+01,\n",
       "       8.700e+00, 1.140e+01, 1.500e+00, 2.120e+01, 2.540e+01, 5.700e+00,\n",
       "       7.800e+00, 2.740e+01, 2.850e+01, 2.340e+01, 7.130e+01, 1.310e+01,\n",
       "       5.500e+00, 1.990e+01, 1.800e+00, 7.700e+00, 1.660e+01, 1.810e+01,\n",
       "       2.690e+01, 1.740e+01, 4.880e+01, 4.000e+00, 2.270e+01, 4.900e+00,\n",
       "       3.660e+01, 3.390e+01, 3.590e+01, 1.610e+01, 1.100e+00, 7.100e+00,\n",
       "       6.300e+00, 2.460e+01, 2.970e+01, 2.960e+01, 3.190e+01, 1.890e+01,\n",
       "       3.060e+01, 4.020e+01, 6.490e+01, 1.590e+01, 2.130e+01, 5.000e+00,\n",
       "       1.260e+01, 1.110e+01, 1.880e+01, 1.030e+01, 3.800e+00, 4.210e+01,\n",
       "       1.970e+01, 4.300e+00, 3.880e+01, 1.720e+01, 7.900e+00, 3.350e+01,\n",
       "       1.450e+01, 1.870e+01, 5.850e+01, 1.300e+01, 1.240e+01, 1.350e+01,\n",
       "       3.000e+01, 2.910e+01, 1.070e+01, 1.094e+02, 3.410e+01, 1.530e+01,\n",
       "       1.570e+01, 1.282e+02, 4.130e+01, 1.101e+02, 4.040e+01, 2.320e+01,\n",
       "       4.470e+01, 4.600e+00, 4.760e+01, 1.410e+01, 2.480e+01, 1.130e+01,\n",
       "       7.490e+01, 5.400e+00, 1.950e+01, 2.030e+01, 4.100e+00, 3.720e+01,\n",
       "       1.680e+01, 2.300e+00, 1.670e+02, 3.220e+01, 2.070e+01, 5.430e+01,\n",
       "       2.190e+01, 5.000e+01, 2.780e+01, 3.070e+01, 3.380e+01, 4.640e+01,\n",
       "       3.830e+01, 3.040e+01, 3.600e+01, 8.300e+00, 4.740e+01, 8.000e+00,\n",
       "       2.160e+01, 6.240e+01, 6.560e+01, 1.390e+01, 7.940e+01, 1.440e+01,\n",
       "       4.510e+01, 3.550e+01, 1.213e+02, 2.580e+01, 2.140e+01, 2.170e+01,\n",
       "       4.370e+01, 1.400e+01, 5.530e+01, 1.640e+01, 1.620e+01, 1.320e+01,\n",
       "       1.460e+01, 1.630e+01, 6.530e+01, 2.820e+01, 4.460e+01, 1.760e+01,\n",
       "       2.410e+01, 4.300e+01, 1.690e+01, 2.870e+01, 7.160e+01, 6.340e+01,\n",
       "       2.050e+01, 1.650e+01, 9.300e+00, 5.100e+01, 7.030e+01, 3.890e+01,\n",
       "       1.090e+01, 1.726e+02, 2.720e+01, 1.940e+01, 2.710e+01, 6.390e+01,\n",
       "       6.130e+01, 4.660e+01, 2.620e+01, 5.780e+01, 2.670e+01, 2.080e+01,\n",
       "       1.000e+01, 2.700e+01, 3.280e+01, 5.890e+01, 5.040e+01, 1.600e+01,\n",
       "       9.000e+01, 4.620e+01, 8.470e+01, 4.630e+01, 6.810e+01, 8.250e+01,\n",
       "       2.750e+01, 3.180e+01, 9.560e+01, 1.552e+02, 3.730e+01, 3.450e+01,\n",
       "       2.790e+01, 2.096e+02, 2.450e+01, 2.020e+01, 4.700e+01, 3.630e+01,\n",
       "       3.310e+01, 2.440e+01, 1.170e+01, 2.880e+01, 9.520e+01, 2.430e+01,\n",
       "       2.900e+01, 8.320e+01, 2.920e+01, 4.060e+01, 2.400e+01, 2.060e+01,\n",
       "       2.630e+01, 3.710e+01, 2.680e+01, 2.026e+02, 2.330e+01, 1.730e+01,\n",
       "       3.560e+01, 7.460e+01, 3.900e+01, 2.980e+01, 6.310e+01, 4.890e+01,\n",
       "       3.420e+01, 2.280e+01, 4.410e+01, 1.480e+01, 4.770e+01, 4.260e+01,\n",
       "       3.260e+01, 2.420e+01, 3.140e+01, 6.180e+01, 4.420e+01, 1.290e+01,\n",
       "       2.770e+01, 5.860e+01, 3.460e+01, 2.640e+01, 1.210e+01, 2.370e+01,\n",
       "       2.730e+01, 5.340e+01, 4.320e+01, 1.770e+01, 6.760e+01, 3.110e+01,\n",
       "       3.160e+01, 9.630e+01, 3.340e+01, 2.090e+01, 3.240e+01, 3.360e+01,\n",
       "       5.330e+01, 2.500e+01])"
      ]
     },
     "execution_count": 7,
     "metadata": {},
     "output_type": "execute_result"
    }
   ],
   "source": [
    "khulna_weather_df.precip.unique()"
   ]
  },
  {
   "cell_type": "markdown",
   "id": "2bf023e0-2b8c-4875-bffc-4ea7413b0f74",
   "metadata": {},
   "source": [
    "#### Drop unncessary columns"
   ]
  },
  {
   "cell_type": "code",
   "execution_count": 8,
   "id": "1053a709-3203-45a5-a0a4-cd3e70057fff",
   "metadata": {},
   "outputs": [],
   "source": [
    "khulna_weather_df.drop(['Unnamed: 0_x', 'name'], axis=1, inplace=True)"
   ]
  },
  {
   "cell_type": "code",
   "execution_count": 9,
   "id": "73b5339a-a065-4710-a3f7-76e904a4fd98",
   "metadata": {},
   "outputs": [],
   "source": [
    "khulna_weather_df.drop(['Unnamed: 0.1', 'Unnamed: 0_y','Unnamed: 0'], axis=1, inplace=True)"
   ]
  },
  {
   "cell_type": "code",
   "execution_count": 10,
   "id": "f4f0ae50-cb94-4601-bedd-6fbdcacc95de",
   "metadata": {},
   "outputs": [
    {
     "data": {
      "text/plain": [
       "array([51, 53,  1,  3,  0, 65, 63, 61, 55,  2], dtype=int64)"
      ]
     },
     "execution_count": 10,
     "metadata": {},
     "output_type": "execute_result"
    }
   ],
   "source": [
    "khulna_weather_df.weathercode.unique()"
   ]
  },
  {
   "cell_type": "code",
   "execution_count": 11,
   "id": "62a1329d-16d6-4586-b90f-0a744f536148",
   "metadata": {},
   "outputs": [
    {
     "data": {
      "text/plain": [
       "array([1.000e-01, 7.000e+00, 0.000e+00, 6.000e-01, 4.000e-01, 1.600e+00,\n",
       "       2.640e+01, 7.300e+00, 2.000e-01, 3.000e-01, 6.200e+00, 5.300e+00,\n",
       "       3.100e+00, 1.160e+01, 5.000e-01, 1.670e+01, 3.400e+00, 1.400e+00,\n",
       "       3.700e+00, 1.920e+01, 1.400e+01, 8.300e+00, 2.320e+01, 7.600e+00,\n",
       "       1.300e+00, 2.160e+01, 8.900e+00, 1.010e+01, 6.100e+00, 2.300e+00,\n",
       "       1.430e+01, 7.900e+00, 6.800e+00, 9.000e-01, 7.400e+00, 5.600e+00,\n",
       "       1.700e+00, 1.900e+00, 1.310e+01, 8.200e+00, 5.830e+01, 4.100e+00,\n",
       "       1.890e+01, 2.220e+01, 1.440e+01, 8.600e+00, 2.020e+01, 2.900e+01,\n",
       "       2.400e+00, 6.900e+00, 8.100e+00, 9.300e+00, 5.000e+00, 5.200e+00,\n",
       "       1.020e+01, 5.100e+00, 1.500e+00, 2.350e+01, 1.780e+01, 7.000e-01,\n",
       "       2.800e+00, 8.000e-01, 1.110e+01, 1.000e+00, 3.800e+01, 1.870e+01,\n",
       "       1.100e+01, 8.800e+00, 1.070e+01, 2.060e+01, 1.800e+00, 8.700e+00,\n",
       "       1.190e+01, 1.620e+01, 1.050e+01, 1.360e+01, 6.300e+00, 4.400e+00,\n",
       "       6.400e+00, 2.600e+01, 5.500e+00, 6.700e+00, 2.400e+01, 7.500e+00,\n",
       "       9.600e+00, 6.000e+00, 1.120e+01, 4.600e+00, 3.000e+00, 2.000e+00,\n",
       "       2.200e+00, 5.800e+00, 2.900e+00, 1.800e+01, 6.500e+00, 1.200e+00,\n",
       "       7.200e+00, 2.290e+01, 3.930e+01, 7.800e+00, 2.700e+00, 8.500e+00,\n",
       "       2.520e+01, 3.120e+01, 9.500e+00, 1.230e+01, 5.700e+00, 1.380e+01,\n",
       "       3.300e+00, 4.700e+00, 2.600e+00, 1.390e+01, 3.190e+01, 2.740e+01,\n",
       "       1.060e+01, 1.040e+01, 1.830e+01, 2.100e+00, 9.000e+00, 3.600e+00,\n",
       "       3.200e+00, 3.900e+00, 2.260e+01, 9.700e+00, 4.500e+00, 7.700e+00,\n",
       "       1.600e+01, 3.360e+01, 9.200e+00, 4.800e+00, 1.220e+01, 2.150e+01,\n",
       "       5.900e+00, 1.460e+01, 5.850e+01, 1.950e+01, 1.030e+01, 2.490e+01,\n",
       "       3.500e+00, 5.400e+00, 2.140e+01, 4.900e+00, 1.710e+01, 8.000e+00,\n",
       "       2.500e+00, 4.300e+00, 1.100e+00, 3.800e+00, 1.330e+01, 2.990e+01,\n",
       "       1.530e+01, 1.240e+01, 9.900e+00, 1.270e+01, 3.960e+01, 2.310e+01,\n",
       "       5.070e+01, 2.770e+01, 1.150e+01, 1.000e+01, 1.200e+01, 1.520e+01,\n",
       "       1.590e+01, 1.550e+01, 9.400e+00, 1.090e+01, 1.820e+01, 2.090e+01,\n",
       "       8.400e+00, 2.410e+01, 1.720e+01, 9.800e+00, 2.270e+01, 2.010e+01,\n",
       "       3.180e+01, 4.200e+00, 1.130e+01, 1.700e+01, 1.250e+01, 3.920e+01,\n",
       "       3.110e+01, 2.000e+01, 2.660e+01, 1.970e+01, 3.260e+01, 3.060e+01,\n",
       "       2.680e+01, 2.550e+01, 1.470e+01, 4.930e+01, 2.500e+01, 3.200e+01,\n",
       "       1.500e+01, 5.030e+01, 1.290e+01, 4.910e+01, 4.760e+01, 1.900e+01,\n",
       "       5.060e+01, 1.350e+01, 1.480e+01, 4.000e+00, 6.600e+00, 1.570e+01,\n",
       "       3.740e+01, 1.269e+02, 2.850e+01, 3.460e+01, 2.730e+01, 1.260e+01,\n",
       "       2.100e+01, 3.950e+01, 1.980e+01, 1.450e+01, 2.190e+01, 7.100e+00,\n",
       "       3.340e+01, 4.120e+01, 2.070e+01, 2.540e+01, 2.460e+01, 2.130e+01,\n",
       "       4.470e+01, 2.750e+01, 2.230e+01, 3.890e+01, 1.420e+01, 3.730e+01,\n",
       "       1.940e+01, 1.210e+01, 1.300e+01, 2.210e+01, 1.750e+01, 1.370e+01,\n",
       "       3.600e+01, 1.280e+01, 2.240e+01, 1.540e+01, 1.410e+01, 3.670e+01,\n",
       "       1.660e+01, 1.080e+01, 3.980e+01, 2.180e+01, 1.650e+01, 9.100e+00,\n",
       "       3.070e+01, 2.040e+01, 1.760e+01, 1.910e+01, 2.920e+01, 3.430e+01,\n",
       "       3.010e+01, 1.340e+01, 1.690e+01, 4.800e+01, 3.250e+01, 2.390e+01,\n",
       "       1.730e+01, 1.990e+01, 1.140e+01, 2.450e+01, 3.820e+01, 6.180e+01,\n",
       "       3.410e+01, 2.930e+01, 2.510e+01, 2.110e+01, 2.330e+01, 3.370e+01,\n",
       "       1.630e+01, 2.610e+01, 5.760e+01, 2.420e+01, 2.120e+01, 1.580e+01,\n",
       "       1.880e+01, 2.970e+01, 3.970e+01, 3.290e+01, 1.610e+01, 5.430e+01,\n",
       "       3.590e+01, 1.170e+01, 7.080e+01, 7.850e+01, 1.490e+01, 1.640e+01,\n",
       "       2.030e+01, 2.300e+01, 6.830e+01, 3.090e+01, 4.730e+01, 4.970e+01,\n",
       "       1.180e+01, 1.085e+02, 6.250e+01, 3.230e+01, 2.890e+01, 4.070e+01,\n",
       "       4.050e+01, 2.200e+01, 5.790e+01, 2.870e+01, 4.740e+01, 2.480e+01,\n",
       "       2.780e+01, 6.020e+01, 3.650e+01, 2.560e+01, 2.050e+01, 5.400e+01,\n",
       "       1.680e+01, 1.860e+01, 1.560e+01, 1.840e+01, 1.320e+01, 2.580e+01,\n",
       "       2.790e+01, 3.380e+01, 6.330e+01, 2.470e+01, 2.250e+01, 1.770e+01,\n",
       "       3.750e+01, 5.320e+01])"
      ]
     },
     "execution_count": 11,
     "metadata": {},
     "output_type": "execute_result"
    }
   ],
   "source": [
    "khulna_weather_df.rain_sum.unique()"
   ]
  },
  {
   "cell_type": "code",
   "execution_count": 12,
   "id": "f7cdfbea-7d0b-422f-9917-b19a506938ad",
   "metadata": {},
   "outputs": [
    {
     "data": {
      "text/plain": [
       "array([1.000e-01, 7.000e+00, 0.000e+00, 6.000e-01, 4.000e-01, 1.600e+00,\n",
       "       2.640e+01, 7.300e+00, 2.000e-01, 3.000e-01, 6.200e+00, 5.300e+00,\n",
       "       3.100e+00, 1.160e+01, 5.000e-01, 1.670e+01, 3.400e+00, 1.400e+00,\n",
       "       3.700e+00, 1.920e+01, 1.400e+01, 8.300e+00, 2.320e+01, 7.600e+00,\n",
       "       1.300e+00, 2.160e+01, 8.900e+00, 1.010e+01, 6.100e+00, 2.300e+00,\n",
       "       1.430e+01, 7.900e+00, 6.800e+00, 9.000e-01, 7.400e+00, 5.600e+00,\n",
       "       1.700e+00, 1.900e+00, 1.310e+01, 8.200e+00, 5.830e+01, 4.100e+00,\n",
       "       1.890e+01, 2.220e+01, 1.440e+01, 8.600e+00, 2.020e+01, 2.900e+01,\n",
       "       2.400e+00, 6.900e+00, 8.100e+00, 9.300e+00, 5.000e+00, 5.200e+00,\n",
       "       1.020e+01, 5.100e+00, 1.500e+00, 2.350e+01, 1.780e+01, 7.000e-01,\n",
       "       2.800e+00, 8.000e-01, 1.110e+01, 1.000e+00, 3.800e+01, 1.870e+01,\n",
       "       1.100e+01, 8.800e+00, 1.070e+01, 2.060e+01, 1.800e+00, 8.700e+00,\n",
       "       1.190e+01, 1.620e+01, 1.050e+01, 1.360e+01, 6.300e+00, 4.400e+00,\n",
       "       6.400e+00, 2.600e+01, 5.500e+00, 6.700e+00, 2.400e+01, 7.500e+00,\n",
       "       9.600e+00, 6.000e+00, 1.120e+01, 4.600e+00, 3.000e+00, 2.000e+00,\n",
       "       2.200e+00, 5.800e+00, 2.900e+00, 1.800e+01, 6.500e+00, 1.200e+00,\n",
       "       7.200e+00, 2.290e+01, 3.930e+01, 7.800e+00, 2.700e+00, 8.500e+00,\n",
       "       2.520e+01, 3.120e+01, 9.500e+00, 1.230e+01, 5.700e+00, 1.380e+01,\n",
       "       3.300e+00, 4.700e+00, 2.600e+00, 1.390e+01, 3.190e+01, 2.740e+01,\n",
       "       1.060e+01, 1.040e+01, 1.830e+01, 2.100e+00, 9.000e+00, 3.600e+00,\n",
       "       3.200e+00, 3.900e+00, 2.260e+01, 9.700e+00, 4.500e+00, 7.700e+00,\n",
       "       1.600e+01, 3.360e+01, 9.200e+00, 4.800e+00, 1.220e+01, 2.150e+01,\n",
       "       5.900e+00, 1.460e+01, 5.850e+01, 1.950e+01, 1.030e+01, 2.490e+01,\n",
       "       3.500e+00, 5.400e+00, 2.140e+01, 4.900e+00, 1.710e+01, 8.000e+00,\n",
       "       2.500e+00, 4.300e+00, 1.100e+00, 3.800e+00, 1.330e+01, 2.990e+01,\n",
       "       1.530e+01, 1.240e+01, 9.900e+00, 1.270e+01, 3.960e+01, 2.310e+01,\n",
       "       5.070e+01, 2.770e+01, 1.150e+01, 1.000e+01, 1.200e+01, 1.520e+01,\n",
       "       1.590e+01, 1.550e+01, 9.400e+00, 1.090e+01, 1.820e+01, 2.090e+01,\n",
       "       8.400e+00, 2.410e+01, 1.720e+01, 9.800e+00, 2.270e+01, 2.010e+01,\n",
       "       3.180e+01, 4.200e+00, 1.130e+01, 1.700e+01, 1.250e+01, 3.920e+01,\n",
       "       3.110e+01, 2.000e+01, 2.660e+01, 1.970e+01, 3.260e+01, 3.060e+01,\n",
       "       2.680e+01, 2.550e+01, 1.470e+01, 4.930e+01, 2.500e+01, 3.200e+01,\n",
       "       1.500e+01, 5.030e+01, 1.290e+01, 4.910e+01, 4.760e+01, 1.900e+01,\n",
       "       5.060e+01, 1.350e+01, 1.480e+01, 4.000e+00, 6.600e+00, 1.570e+01,\n",
       "       3.740e+01, 1.269e+02, 2.850e+01, 3.460e+01, 2.730e+01, 1.260e+01,\n",
       "       2.100e+01, 3.950e+01, 1.980e+01, 1.450e+01, 2.190e+01, 7.100e+00,\n",
       "       3.340e+01, 4.120e+01, 2.070e+01, 2.540e+01, 2.460e+01, 2.130e+01,\n",
       "       4.470e+01, 2.750e+01, 2.230e+01, 3.890e+01, 1.420e+01, 3.730e+01,\n",
       "       1.940e+01, 1.210e+01, 1.300e+01, 2.210e+01, 1.750e+01, 1.370e+01,\n",
       "       3.600e+01, 1.280e+01, 2.240e+01, 1.540e+01, 1.410e+01, 3.670e+01,\n",
       "       1.660e+01, 1.080e+01, 3.980e+01, 2.180e+01, 1.650e+01, 9.100e+00,\n",
       "       3.070e+01, 2.040e+01, 1.760e+01, 1.910e+01, 2.920e+01, 3.430e+01,\n",
       "       3.010e+01, 1.340e+01, 1.690e+01, 4.800e+01, 3.250e+01, 2.390e+01,\n",
       "       1.730e+01, 1.990e+01, 1.140e+01, 2.450e+01, 3.820e+01, 6.180e+01,\n",
       "       3.410e+01, 2.930e+01, 2.510e+01, 2.110e+01, 2.330e+01, 3.370e+01,\n",
       "       1.630e+01, 2.610e+01, 5.760e+01, 2.420e+01, 2.120e+01, 1.580e+01,\n",
       "       1.880e+01, 2.970e+01, 3.970e+01, 3.290e+01, 1.610e+01, 5.430e+01,\n",
       "       3.590e+01, 1.170e+01, 7.080e+01, 7.850e+01, 1.490e+01, 1.640e+01,\n",
       "       2.030e+01, 2.300e+01, 6.830e+01, 3.090e+01, 4.730e+01, 4.970e+01,\n",
       "       1.180e+01, 1.085e+02, 6.250e+01, 3.230e+01, 2.890e+01, 4.070e+01,\n",
       "       4.050e+01, 2.200e+01, 5.790e+01, 2.870e+01, 4.740e+01, 2.480e+01,\n",
       "       2.780e+01, 6.020e+01, 3.650e+01, 2.560e+01, 2.050e+01, 5.400e+01,\n",
       "       1.680e+01, 1.860e+01, 1.560e+01, 1.840e+01, 1.320e+01, 2.580e+01,\n",
       "       2.790e+01, 3.380e+01, 6.330e+01, 2.470e+01, 2.250e+01, 1.770e+01,\n",
       "       3.750e+01, 5.320e+01])"
      ]
     },
     "execution_count": 12,
     "metadata": {},
     "output_type": "execute_result"
    }
   ],
   "source": [
    "khulna_weather_df.precipitation_sum.unique()"
   ]
  },
  {
   "cell_type": "markdown",
   "id": "d26f3b3f-151f-4c37-a777-67aa0acfd77d",
   "metadata": {},
   "source": [
    "Column precipitation_sum and rain_sum both have same values drop rain_sum column"
   ]
  },
  {
   "cell_type": "code",
   "execution_count": 13,
   "id": "591d2ef0-0364-484c-ae28-e2b9e0aba9f4",
   "metadata": {},
   "outputs": [],
   "source": [
    "khulna_weather_df.drop('rain_sum', axis=1, inplace=True)"
   ]
  },
  {
   "cell_type": "code",
   "execution_count": 14,
   "id": "865ce3c1-2dcd-41f8-bc93-fd861f2886f3",
   "metadata": {},
   "outputs": [
    {
     "data": {
      "text/html": [
       "<div>\n",
       "<style scoped>\n",
       "    .dataframe tbody tr th:only-of-type {\n",
       "        vertical-align: middle;\n",
       "    }\n",
       "\n",
       "    .dataframe tbody tr th {\n",
       "        vertical-align: top;\n",
       "    }\n",
       "\n",
       "    .dataframe thead th {\n",
       "        text-align: right;\n",
       "    }\n",
       "</style>\n",
       "<table border=\"1\" class=\"dataframe\">\n",
       "  <thead>\n",
       "    <tr style=\"text-align: right;\">\n",
       "      <th></th>\n",
       "      <th>tempmax_x</th>\n",
       "      <th>tempmin_x</th>\n",
       "      <th>temp</th>\n",
       "      <th>feelslikemax</th>\n",
       "      <th>feelslikemin</th>\n",
       "      <th>feelslike</th>\n",
       "      <th>dew</th>\n",
       "      <th>humidity</th>\n",
       "      <th>precip</th>\n",
       "      <th>precipprob</th>\n",
       "      <th>...</th>\n",
       "      <th>river_discharge</th>\n",
       "      <th>weathercode</th>\n",
       "      <th>tempmax_y</th>\n",
       "      <th>tempmin_y</th>\n",
       "      <th>temperature_2m_mean</th>\n",
       "      <th>apparent_temperature_mean</th>\n",
       "      <th>precipitation_sum</th>\n",
       "      <th>precipitation_hours</th>\n",
       "      <th>windspeed_y</th>\n",
       "      <th>et0_fao_evapotranspiration</th>\n",
       "    </tr>\n",
       "  </thead>\n",
       "  <tbody>\n",
       "    <tr>\n",
       "      <th>count</th>\n",
       "      <td>3515.000000</td>\n",
       "      <td>3515.000000</td>\n",
       "      <td>3515.000000</td>\n",
       "      <td>3515.000000</td>\n",
       "      <td>3515.000000</td>\n",
       "      <td>3515.000000</td>\n",
       "      <td>3515.000000</td>\n",
       "      <td>3515.000000</td>\n",
       "      <td>3515.000000</td>\n",
       "      <td>3515.000000</td>\n",
       "      <td>...</td>\n",
       "      <td>3515.000000</td>\n",
       "      <td>3515.000000</td>\n",
       "      <td>3515.000000</td>\n",
       "      <td>3515.000000</td>\n",
       "      <td>3515.000000</td>\n",
       "      <td>3515.000000</td>\n",
       "      <td>3515.000000</td>\n",
       "      <td>3515.000000</td>\n",
       "      <td>3515.000000</td>\n",
       "      <td>3515.00000</td>\n",
       "    </tr>\n",
       "    <tr>\n",
       "      <th>mean</th>\n",
       "      <td>32.233883</td>\n",
       "      <td>21.498748</td>\n",
       "      <td>26.139943</td>\n",
       "      <td>36.530469</td>\n",
       "      <td>21.972859</td>\n",
       "      <td>28.685377</td>\n",
       "      <td>20.062105</td>\n",
       "      <td>73.489900</td>\n",
       "      <td>5.926828</td>\n",
       "      <td>51.266003</td>\n",
       "      <td>...</td>\n",
       "      <td>122.692205</td>\n",
       "      <td>31.846373</td>\n",
       "      <td>30.098834</td>\n",
       "      <td>21.982105</td>\n",
       "      <td>25.740910</td>\n",
       "      <td>29.337354</td>\n",
       "      <td>4.190896</td>\n",
       "      <td>4.873400</td>\n",
       "      <td>13.036984</td>\n",
       "      <td>3.70173</td>\n",
       "    </tr>\n",
       "    <tr>\n",
       "      <th>std</th>\n",
       "      <td>4.175609</td>\n",
       "      <td>5.475456</td>\n",
       "      <td>4.428450</td>\n",
       "      <td>7.276642</td>\n",
       "      <td>6.269834</td>\n",
       "      <td>6.632190</td>\n",
       "      <td>6.394693</td>\n",
       "      <td>14.319106</td>\n",
       "      <td>13.593381</td>\n",
       "      <td>49.991081</td>\n",
       "      <td>...</td>\n",
       "      <td>112.260075</td>\n",
       "      <td>28.257481</td>\n",
       "      <td>3.537632</td>\n",
       "      <td>4.974559</td>\n",
       "      <td>3.922779</td>\n",
       "      <td>6.038513</td>\n",
       "      <td>8.640110</td>\n",
       "      <td>6.459996</td>\n",
       "      <td>4.935106</td>\n",
       "      <td>1.15191</td>\n",
       "    </tr>\n",
       "    <tr>\n",
       "      <th>min</th>\n",
       "      <td>17.600000</td>\n",
       "      <td>6.200000</td>\n",
       "      <td>13.100000</td>\n",
       "      <td>17.600000</td>\n",
       "      <td>4.100000</td>\n",
       "      <td>12.700000</td>\n",
       "      <td>-1.100000</td>\n",
       "      <td>22.900000</td>\n",
       "      <td>0.000000</td>\n",
       "      <td>0.000000</td>\n",
       "      <td>...</td>\n",
       "      <td>0.310000</td>\n",
       "      <td>0.000000</td>\n",
       "      <td>19.700000</td>\n",
       "      <td>9.200000</td>\n",
       "      <td>15.100000</td>\n",
       "      <td>13.500000</td>\n",
       "      <td>0.000000</td>\n",
       "      <td>0.000000</td>\n",
       "      <td>4.100000</td>\n",
       "      <td>0.48000</td>\n",
       "    </tr>\n",
       "    <tr>\n",
       "      <th>25%</th>\n",
       "      <td>29.500000</td>\n",
       "      <td>17.350000</td>\n",
       "      <td>23.050000</td>\n",
       "      <td>29.800000</td>\n",
       "      <td>17.350000</td>\n",
       "      <td>23.000000</td>\n",
       "      <td>15.300000</td>\n",
       "      <td>64.200000</td>\n",
       "      <td>0.000000</td>\n",
       "      <td>0.000000</td>\n",
       "      <td>...</td>\n",
       "      <td>29.095000</td>\n",
       "      <td>1.000000</td>\n",
       "      <td>27.600000</td>\n",
       "      <td>17.700000</td>\n",
       "      <td>22.800000</td>\n",
       "      <td>24.500000</td>\n",
       "      <td>0.000000</td>\n",
       "      <td>0.000000</td>\n",
       "      <td>9.400000</td>\n",
       "      <td>3.02000</td>\n",
       "    </tr>\n",
       "    <tr>\n",
       "      <th>50%</th>\n",
       "      <td>32.200000</td>\n",
       "      <td>23.600000</td>\n",
       "      <td>27.800000</td>\n",
       "      <td>37.700000</td>\n",
       "      <td>23.600000</td>\n",
       "      <td>30.100000</td>\n",
       "      <td>22.100000</td>\n",
       "      <td>75.300000</td>\n",
       "      <td>0.100000</td>\n",
       "      <td>100.000000</td>\n",
       "      <td>...</td>\n",
       "      <td>95.160000</td>\n",
       "      <td>51.000000</td>\n",
       "      <td>30.600000</td>\n",
       "      <td>24.100000</td>\n",
       "      <td>27.100000</td>\n",
       "      <td>31.600000</td>\n",
       "      <td>0.300000</td>\n",
       "      <td>1.000000</td>\n",
       "      <td>11.900000</td>\n",
       "      <td>3.59000</td>\n",
       "    </tr>\n",
       "    <tr>\n",
       "      <th>75%</th>\n",
       "      <td>35.100000</td>\n",
       "      <td>26.100000</td>\n",
       "      <td>29.200000</td>\n",
       "      <td>42.400000</td>\n",
       "      <td>26.100000</td>\n",
       "      <td>34.200000</td>\n",
       "      <td>25.800000</td>\n",
       "      <td>85.500000</td>\n",
       "      <td>6.400000</td>\n",
       "      <td>100.000000</td>\n",
       "      <td>...</td>\n",
       "      <td>187.580000</td>\n",
       "      <td>61.000000</td>\n",
       "      <td>32.500000</td>\n",
       "      <td>26.000000</td>\n",
       "      <td>28.700000</td>\n",
       "      <td>34.100000</td>\n",
       "      <td>4.800000</td>\n",
       "      <td>9.000000</td>\n",
       "      <td>15.700000</td>\n",
       "      <td>4.42000</td>\n",
       "    </tr>\n",
       "    <tr>\n",
       "      <th>max</th>\n",
       "      <td>43.400000</td>\n",
       "      <td>29.800000</td>\n",
       "      <td>34.400000</td>\n",
       "      <td>61.600000</td>\n",
       "      <td>37.900000</td>\n",
       "      <td>42.700000</td>\n",
       "      <td>27.800000</td>\n",
       "      <td>96.400000</td>\n",
       "      <td>209.600000</td>\n",
       "      <td>100.000000</td>\n",
       "      <td>...</td>\n",
       "      <td>742.020000</td>\n",
       "      <td>65.000000</td>\n",
       "      <td>39.400000</td>\n",
       "      <td>29.600000</td>\n",
       "      <td>33.100000</td>\n",
       "      <td>39.800000</td>\n",
       "      <td>126.900000</td>\n",
       "      <td>24.000000</td>\n",
       "      <td>51.900000</td>\n",
       "      <td>7.15000</td>\n",
       "    </tr>\n",
       "  </tbody>\n",
       "</table>\n",
       "<p>8 rows × 34 columns</p>\n",
       "</div>"
      ],
      "text/plain": [
       "         tempmax_x    tempmin_x         temp  feelslikemax  feelslikemin  \\\n",
       "count  3515.000000  3515.000000  3515.000000   3515.000000   3515.000000   \n",
       "mean     32.233883    21.498748    26.139943     36.530469     21.972859   \n",
       "std       4.175609     5.475456     4.428450      7.276642      6.269834   \n",
       "min      17.600000     6.200000    13.100000     17.600000      4.100000   \n",
       "25%      29.500000    17.350000    23.050000     29.800000     17.350000   \n",
       "50%      32.200000    23.600000    27.800000     37.700000     23.600000   \n",
       "75%      35.100000    26.100000    29.200000     42.400000     26.100000   \n",
       "max      43.400000    29.800000    34.400000     61.600000     37.900000   \n",
       "\n",
       "         feelslike          dew     humidity       precip   precipprob  ...  \\\n",
       "count  3515.000000  3515.000000  3515.000000  3515.000000  3515.000000  ...   \n",
       "mean     28.685377    20.062105    73.489900     5.926828    51.266003  ...   \n",
       "std       6.632190     6.394693    14.319106    13.593381    49.991081  ...   \n",
       "min      12.700000    -1.100000    22.900000     0.000000     0.000000  ...   \n",
       "25%      23.000000    15.300000    64.200000     0.000000     0.000000  ...   \n",
       "50%      30.100000    22.100000    75.300000     0.100000   100.000000  ...   \n",
       "75%      34.200000    25.800000    85.500000     6.400000   100.000000  ...   \n",
       "max      42.700000    27.800000    96.400000   209.600000   100.000000  ...   \n",
       "\n",
       "       river_discharge  weathercode    tempmax_y    tempmin_y  \\\n",
       "count      3515.000000  3515.000000  3515.000000  3515.000000   \n",
       "mean        122.692205    31.846373    30.098834    21.982105   \n",
       "std         112.260075    28.257481     3.537632     4.974559   \n",
       "min           0.310000     0.000000    19.700000     9.200000   \n",
       "25%          29.095000     1.000000    27.600000    17.700000   \n",
       "50%          95.160000    51.000000    30.600000    24.100000   \n",
       "75%         187.580000    61.000000    32.500000    26.000000   \n",
       "max         742.020000    65.000000    39.400000    29.600000   \n",
       "\n",
       "       temperature_2m_mean  apparent_temperature_mean  precipitation_sum  \\\n",
       "count          3515.000000                3515.000000        3515.000000   \n",
       "mean             25.740910                  29.337354           4.190896   \n",
       "std               3.922779                   6.038513           8.640110   \n",
       "min              15.100000                  13.500000           0.000000   \n",
       "25%              22.800000                  24.500000           0.000000   \n",
       "50%              27.100000                  31.600000           0.300000   \n",
       "75%              28.700000                  34.100000           4.800000   \n",
       "max              33.100000                  39.800000         126.900000   \n",
       "\n",
       "       precipitation_hours  windspeed_y  et0_fao_evapotranspiration  \n",
       "count          3515.000000  3515.000000                  3515.00000  \n",
       "mean              4.873400    13.036984                     3.70173  \n",
       "std               6.459996     4.935106                     1.15191  \n",
       "min               0.000000     4.100000                     0.48000  \n",
       "25%               0.000000     9.400000                     3.02000  \n",
       "50%               1.000000    11.900000                     3.59000  \n",
       "75%               9.000000    15.700000                     4.42000  \n",
       "max              24.000000    51.900000                     7.15000  \n",
       "\n",
       "[8 rows x 34 columns]"
      ]
     },
     "execution_count": 14,
     "metadata": {},
     "output_type": "execute_result"
    }
   ],
   "source": [
    "khulna_weather_df.describe()"
   ]
  },
  {
   "cell_type": "code",
   "execution_count": 15,
   "id": "5d1feafb-cce2-4110-8408-36bd91a45b12",
   "metadata": {},
   "outputs": [
    {
     "name": "stdout",
     "output_type": "stream",
     "text": [
      "river_discharge\n",
      "0.53      0.023044\n",
      "0.44      0.022760\n",
      "0.47      0.021906\n",
      "0.50      0.018492\n",
      "0.41      0.017070\n",
      "            ...   \n",
      "14.89     0.000284\n",
      "19.80     0.000284\n",
      "6.41      0.000284\n",
      "344.94    0.000284\n",
      "446.71    0.000284\n",
      "Name: count, Length: 1236, dtype: float64\n"
     ]
    },
    {
     "data": {
      "image/png": "[encoded data removed]",
      "text/plain": [
       "<Figure size 640x480 with 1 Axes>"
      ]
     },
     "metadata": {},
     "output_type": "display_data"
    }
   ],
   "source": [
    "print(khulna_weather_df['river_discharge'].value_counts()/len(khulna_weather_df))\n",
    "sns.countplot(x='river_discharge', data=khulna_weather_df)\n",
    "plt.show()"
   ]
  },
  {
   "cell_type": "code",
   "execution_count": 16,
   "id": "7e6650a5-691f-4629-9200-5d3b072e2eef",
   "metadata": {},
   "outputs": [
    {
     "name": "stdout",
     "output_type": "stream",
     "text": [
      "conditions\n",
      "Rain, Partially cloudy    0.393457\n",
      "Clear                     0.267425\n",
      "Partially cloudy          0.217923\n",
      "Rain, Overcast            0.079374\n",
      "Rain                      0.039829\n",
      "Overcast                  0.001991\n",
      "Name: count, dtype: float64\n"
     ]
    },
    {
     "data": {
      "image/png": "[encoded data removed]",
      "text/plain": [
       "<Figure size 640x480 with 1 Axes>"
      ]
     },
     "metadata": {},
     "output_type": "display_data"
    }
   ],
   "source": [
    "print(khulna_weather_df['conditions'].value_counts()/len(khulna_weather_df))\n",
    "sns.countplot(x='conditions', data=khulna_weather_df)\n",
    "plt.show()"
   ]
  },
  {
   "cell_type": "markdown",
   "id": "8ee47031-360b-491d-9ae2-cf2e41f2f5de",
   "metadata": {},
   "source": [
    "#### Data Preprocessing\n",
    "\n",
    "Before training the model, we need to preprocess the data. This includes handling missing values, converting categorical data into numerical data, and splitting the data into training and testing sets."
   ]
  },
  {
   "cell_type": "markdown",
   "id": "ae9067b1-286b-4601-b7b6-d0f11c2aae45",
   "metadata": {},
   "source": [
    "### 1. Handling missing values"
   ]
  },
  {
   "cell_type": "code",
   "execution_count": 17,
   "id": "70c0ea0e-3f55-424c-88c5-1c209f3e7e95",
   "metadata": {},
   "outputs": [
    {
     "data": {
      "text/plain": [
       "severerisk                    83.357041\n",
       "snow                          83.357041\n",
       "snowdepth                     83.300142\n",
       "windgust                      82.702703\n",
       "preciptype                    48.648649\n",
       "visibility                    17.126600\n",
       "sealevelpressure              17.098151\n",
       "uvindex                        0.000000\n",
       "sunrise                        0.000000\n",
       "sunset                         0.000000\n",
       "moonphase                      0.000000\n",
       "datetime                       0.000000\n",
       "river_discharge                0.000000\n",
       "weathercode                    0.000000\n",
       "tempmax_y                      0.000000\n",
       "tempmin_y                      0.000000\n",
       "temperature_2m_mean            0.000000\n",
       "apparent_temperature_mean      0.000000\n",
       "precipitation_sum              0.000000\n",
       "precipitation_hours            0.000000\n",
       "windspeed_y                    0.000000\n",
       "conditions                     0.000000\n",
       "cloudcover                     0.000000\n",
       "solarenergy                    0.000000\n",
       "solarradiation                 0.000000\n",
       "tempmax_x                      0.000000\n",
       "winddir                        0.000000\n",
       "windspeed_x                    0.000000\n",
       "precipcover                    0.000000\n",
       "precipprob                     0.000000\n",
       "precip                         0.000000\n",
       "humidity                       0.000000\n",
       "dew                            0.000000\n",
       "feelslike                      0.000000\n",
       "feelslikemin                   0.000000\n",
       "feelslikemax                   0.000000\n",
       "temp                           0.000000\n",
       "tempmin_x                      0.000000\n",
       "et0_fao_evapotranspiration     0.000000\n",
       "dtype: float64"
      ]
     },
     "execution_count": 17,
     "metadata": {},
     "output_type": "execute_result"
    }
   ],
   "source": [
    "khulna_weather_df.isnull().sum().sort_values(ascending=False)/len(khulna_weather_df)*100"
   ]
  },
  {
   "cell_type": "markdown",
   "id": "a0db739d-9c02-4134-b4d9-fa4d81da6b9a",
   "metadata": {},
   "source": [
    "We'll delete the severerisk','snow','snowdepth','windgust' column because it accounts for 84% of missing values. This column doesn't provide much information about our passenger.\n",
    "\n",
    "We will then remove the remaining missing values in the dataset.."
   ]
  },
  {
   "cell_type": "code",
   "execution_count": 18,
   "id": "cc21aa4c-239c-41af-98d4-30974eefb23c",
   "metadata": {},
   "outputs": [
    {
     "data": {
      "text/plain": [
       "preciptype                    48.648649\n",
       "visibility                    17.126600\n",
       "sealevelpressure              17.098151\n",
       "solarenergy                    0.000000\n",
       "sunrise                        0.000000\n",
       "sunset                         0.000000\n",
       "moonphase                      0.000000\n",
       "conditions                     0.000000\n",
       "river_discharge                0.000000\n",
       "weathercode                    0.000000\n",
       "tempmax_y                      0.000000\n",
       "tempmin_y                      0.000000\n",
       "temperature_2m_mean            0.000000\n",
       "apparent_temperature_mean      0.000000\n",
       "precipitation_sum              0.000000\n",
       "precipitation_hours            0.000000\n",
       "windspeed_y                    0.000000\n",
       "uvindex                        0.000000\n",
       "datetime                       0.000000\n",
       "solarradiation                 0.000000\n",
       "tempmax_x                      0.000000\n",
       "cloudcover                     0.000000\n",
       "winddir                        0.000000\n",
       "windspeed_x                    0.000000\n",
       "precipcover                    0.000000\n",
       "precipprob                     0.000000\n",
       "precip                         0.000000\n",
       "humidity                       0.000000\n",
       "dew                            0.000000\n",
       "feelslike                      0.000000\n",
       "feelslikemin                   0.000000\n",
       "feelslikemax                   0.000000\n",
       "temp                           0.000000\n",
       "tempmin_x                      0.000000\n",
       "et0_fao_evapotranspiration     0.000000\n",
       "dtype: float64"
      ]
     },
     "execution_count": 18,
     "metadata": {},
     "output_type": "execute_result"
    }
   ],
   "source": [
    "# Dropping the column deck\n",
    "khulna_weather_df= khulna_weather_df.drop(['severerisk','snow','snowdepth','windgust'], axis = 1)\n",
    "# Check\n",
    "khulna_weather_df.isnull().sum().sort_values(ascending=False)/len(khulna_weather_df)*100"
   ]
  },
  {
   "cell_type": "code",
   "execution_count": 19,
   "id": "4b59dd25-9a62-4c90-bcfc-5598b70ac362",
   "metadata": {},
   "outputs": [
    {
     "data": {
      "text/plain": [
       "datetime                      0.0\n",
       "weathercode                   0.0\n",
       "uvindex                       0.0\n",
       "sunrise                       0.0\n",
       "sunset                        0.0\n",
       "moonphase                     0.0\n",
       "conditions                    0.0\n",
       "river_discharge               0.0\n",
       "tempmax_y                     0.0\n",
       "solarradiation                0.0\n",
       "tempmin_y                     0.0\n",
       "temperature_2m_mean           0.0\n",
       "apparent_temperature_mean     0.0\n",
       "precipitation_sum             0.0\n",
       "precipitation_hours           0.0\n",
       "windspeed_y                   0.0\n",
       "solarenergy                   0.0\n",
       "visibility                    0.0\n",
       "tempmax_x                     0.0\n",
       "humidity                      0.0\n",
       "tempmin_x                     0.0\n",
       "temp                          0.0\n",
       "feelslikemax                  0.0\n",
       "feelslikemin                  0.0\n",
       "feelslike                     0.0\n",
       "dew                           0.0\n",
       "precip                        0.0\n",
       "cloudcover                    0.0\n",
       "precipprob                    0.0\n",
       "precipcover                   0.0\n",
       "preciptype                    0.0\n",
       "windspeed_x                   0.0\n",
       "winddir                       0.0\n",
       "sealevelpressure              0.0\n",
       "et0_fao_evapotranspiration    0.0\n",
       "dtype: float64"
      ]
     },
     "execution_count": 19,
     "metadata": {},
     "output_type": "execute_result"
    }
   ],
   "source": [
    "# Drope the remaning missing value \n",
    "khulna_weather_df= khulna_weather_df.dropna()\n",
    "# Check\n",
    "khulna_weather_df.isnull().sum().sort_values(ascending=False)/len(khulna_weather_df)*100"
   ]
  },
  {
   "cell_type": "markdown",
   "id": "9971fff1-c14f-4606-88de-809ca94df62b",
   "metadata": {},
   "source": [
    "### Target distribution"
   ]
  },
  {
   "cell_type": "markdown",
   "id": "884c4b92-98f0-4ead-b38f-33afbd97844a",
   "metadata": {},
   "source": [
    "#### Feature Selection\n"
   ]
  },
  {
   "cell_type": "code",
   "execution_count": 20,
   "id": "d251da35-853d-4f3e-acc9-88ac9a835bd7",
   "metadata": {},
   "outputs": [],
   "source": [
    "# Correct the date format and delimiter in pd.to_datetime\n",
    "khulna_weather_df['datetime'] = pd.to_datetime(khulna_weather_df['datetime'], format=\"%d-%m-%Y\")\n",
    "\n",
    "# Extract the year\n",
    "khulna_weather_df['year'] = khulna_weather_df['datetime'].dt.year\n",
    "\n",
    "# Extract month\n",
    "khulna_weather_df['month'] = khulna_weather_df['datetime'].dt.month"
   ]
  },
  {
   "cell_type": "code",
   "execution_count": 21,
   "id": "ba30e699-cd71-4891-abaf-9237e46de9b0",
   "metadata": {},
   "outputs": [
    {
     "name": "stdout",
     "output_type": "stream",
     "text": [
      "<class 'pandas.core.frame.DataFrame'>\n",
      "Index: 1527 entries, 1 to 3507\n",
      "Data columns (total 37 columns):\n",
      " #   Column                      Non-Null Count  Dtype         \n",
      "---  ------                      --------------  -----         \n",
      " 0   datetime                    1527 non-null   datetime64[ns]\n",
      " 1   tempmax_x                   1527 non-null   float64       \n",
      " 2   tempmin_x                   1527 non-null   float64       \n",
      " 3   temp                        1527 non-null   float64       \n",
      " 4   feelslikemax                1527 non-null   float64       \n",
      " 5   feelslikemin                1527 non-null   float64       \n",
      " 6   feelslike                   1527 non-null   float64       \n",
      " 7   dew                         1527 non-null   float64       \n",
      " 8   humidity                    1527 non-null   float64       \n",
      " 9   precip                      1527 non-null   float64       \n",
      " 10  precipprob                  1527 non-null   float64       \n",
      " 11  precipcover                 1527 non-null   float64       \n",
      " 12  preciptype                  1527 non-null   object        \n",
      " 13  windspeed_x                 1527 non-null   float64       \n",
      " 14  winddir                     1527 non-null   float64       \n",
      " 15  sealevelpressure            1527 non-null   float64       \n",
      " 16  cloudcover                  1527 non-null   float64       \n",
      " 17  visibility                  1527 non-null   float64       \n",
      " 18  solarradiation              1527 non-null   float64       \n",
      " 19  solarenergy                 1527 non-null   float64       \n",
      " 20  uvindex                     1527 non-null   float64       \n",
      " 21  sunrise                     1527 non-null   object        \n",
      " 22  sunset                      1527 non-null   object        \n",
      " 23  moonphase                   1527 non-null   float64       \n",
      " 24  conditions                  1527 non-null   object        \n",
      " 25  river_discharge             1527 non-null   float64       \n",
      " 26  weathercode                 1527 non-null   int64         \n",
      " 27  tempmax_y                   1527 non-null   float64       \n",
      " 28  tempmin_y                   1527 non-null   float64       \n",
      " 29  temperature_2m_mean         1527 non-null   float64       \n",
      " 30  apparent_temperature_mean   1527 non-null   float64       \n",
      " 31  precipitation_sum           1527 non-null   float64       \n",
      " 32  precipitation_hours         1527 non-null   float64       \n",
      " 33  windspeed_y                 1527 non-null   float64       \n",
      " 34  et0_fao_evapotranspiration  1527 non-null   float64       \n",
      " 35  year                        1527 non-null   int32         \n",
      " 36  month                       1527 non-null   int32         \n",
      "dtypes: datetime64[ns](1), float64(29), int32(2), int64(1), object(4)\n",
      "memory usage: 441.4+ KB\n"
     ]
    }
   ],
   "source": [
    "khulna_weather_df.info()"
   ]
  },
  {
   "cell_type": "code",
   "execution_count": 22,
   "id": "43836938-fe3c-44cb-a380-89bd80f6e8d5",
   "metadata": {},
   "outputs": [],
   "source": [
    "khulna_weather_df=khulna_weather_df.drop( ['datetime'],axis=1)"
   ]
  },
  {
   "cell_type": "code",
   "execution_count": 23,
   "id": "75643bee-0e37-4a79-81dd-e552494fecaa",
   "metadata": {},
   "outputs": [
    {
     "data": {
      "text/plain": [
       "Index(['tempmax_x', 'tempmin_x', 'temp', 'feelslikemax', 'feelslikemin',\n",
       "       'feelslike', 'dew', 'humidity', 'precip', 'precipprob', 'precipcover',\n",
       "       'preciptype', 'windspeed_x', 'winddir', 'sealevelpressure',\n",
       "       'cloudcover', 'visibility', 'solarradiation', 'solarenergy', 'uvindex',\n",
       "       'sunrise', 'sunset', 'moonphase', 'conditions', 'river_discharge',\n",
       "       'weathercode', 'tempmax_y', 'tempmin_y', 'temperature_2m_mean',\n",
       "       'apparent_temperature_mean', 'precipitation_sum', 'precipitation_hours',\n",
       "       'windspeed_y', 'et0_fao_evapotranspiration', 'year', 'month'],\n",
       "      dtype='object')"
      ]
     },
     "execution_count": 23,
     "metadata": {},
     "output_type": "execute_result"
    }
   ],
   "source": [
    "khulna_weather_df.columns"
   ]
  },
  {
   "cell_type": "code",
   "execution_count": 24,
   "id": "339b94ad-5a44-4012-bd2e-59ca943c9572",
   "metadata": {},
   "outputs": [
    {
     "name": "stdout",
     "output_type": "stream",
     "text": [
      "<class 'pandas.core.frame.DataFrame'>\n",
      "Index: 1527 entries, 1 to 3507\n",
      "Data columns (total 36 columns):\n",
      " #   Column                      Non-Null Count  Dtype  \n",
      "---  ------                      --------------  -----  \n",
      " 0   tempmax_x                   1527 non-null   float64\n",
      " 1   tempmin_x                   1527 non-null   float64\n",
      " 2   temp                        1527 non-null   float64\n",
      " 3   feelslikemax                1527 non-null   float64\n",
      " 4   feelslikemin                1527 non-null   float64\n",
      " 5   feelslike                   1527 non-null   float64\n",
      " 6   dew                         1527 non-null   float64\n",
      " 7   humidity                    1527 non-null   float64\n",
      " 8   precip                      1527 non-null   float64\n",
      " 9   precipprob                  1527 non-null   float64\n",
      " 10  precipcover                 1527 non-null   float64\n",
      " 11  preciptype                  1527 non-null   object \n",
      " 12  windspeed_x                 1527 non-null   float64\n",
      " 13  winddir                     1527 non-null   float64\n",
      " 14  sealevelpressure            1527 non-null   float64\n",
      " 15  cloudcover                  1527 non-null   float64\n",
      " 16  visibility                  1527 non-null   float64\n",
      " 17  solarradiation              1527 non-null   float64\n",
      " 18  solarenergy                 1527 non-null   float64\n",
      " 19  uvindex                     1527 non-null   float64\n",
      " 20  sunrise                     1527 non-null   object \n",
      " 21  sunset                      1527 non-null   object \n",
      " 22  moonphase                   1527 non-null   float64\n",
      " 23  conditions                  1527 non-null   object \n",
      " 24  river_discharge             1527 non-null   float64\n",
      " 25  weathercode                 1527 non-null   int64  \n",
      " 26  tempmax_y                   1527 non-null   float64\n",
      " 27  tempmin_y                   1527 non-null   float64\n",
      " 28  temperature_2m_mean         1527 non-null   float64\n",
      " 29  apparent_temperature_mean   1527 non-null   float64\n",
      " 30  precipitation_sum           1527 non-null   float64\n",
      " 31  precipitation_hours         1527 non-null   float64\n",
      " 32  windspeed_y                 1527 non-null   float64\n",
      " 33  et0_fao_evapotranspiration  1527 non-null   float64\n",
      " 34  year                        1527 non-null   int32  \n",
      " 35  month                       1527 non-null   int32  \n",
      "dtypes: float64(29), int32(2), int64(1), object(4)\n",
      "memory usage: 429.5+ KB\n"
     ]
    }
   ],
   "source": [
    "khulna_weather_df.info()"
   ]
  },
  {
   "cell_type": "markdown",
   "id": "c9592cc5-cce1-42e6-99a9-fe7858ada27a",
   "metadata": {},
   "source": [
    "### Feature Selection"
   ]
  },
  {
   "cell_type": "code",
   "execution_count": 27,
   "id": "c98d556f-d124-4512-96fc-df91a7d4408a",
   "metadata": {},
   "outputs": [],
   "source": [
    "X = khulna_weather_df[['year', 'tempmax_x', 'tempmin_x', 'temp', 'feelslikemax',\n",
    "       'feelslikemin', 'feelslike', 'dew', 'humidity', 'precipprob','preciptype',\n",
    "       'precipcover', 'windspeed_x', 'winddir',  'precip',   \n",
    "       'sealevelpressure', 'cloudcover', 'visibility', 'solarradiation',\n",
    "       'solarenergy', 'uvindex', 'sunrise', 'sunset', 'moonphase',\n",
    "       'conditions', 'river_discharge', 'weathercode', 'tempmax_y',\n",
    "       'tempmin_y', 'temperature_2m_mean', 'apparent_temperature_mean',\n",
    "       'precipitation_sum', 'precipitation_hours', 'windspeed_y',\n",
    "       'et0_fao_evapotranspiration', 'month']] \n",
    "\n",
    "y = khulna_weather_df['precipitation_sum']"
   ]
  },
  {
   "cell_type": "code",
   "execution_count": 28,
   "id": "85730d21-ff40-45c2-acbb-b2d557431d71",
   "metadata": {},
   "outputs": [
    {
     "data": {
      "text/html": [
       "<div>\n",
       "<style scoped>\n",
       "    .dataframe tbody tr th:only-of-type {\n",
       "        vertical-align: middle;\n",
       "    }\n",
       "\n",
       "    .dataframe tbody tr th {\n",
       "        vertical-align: top;\n",
       "    }\n",
       "\n",
       "    .dataframe thead th {\n",
       "        text-align: right;\n",
       "    }\n",
       "</style>\n",
       "<table border=\"1\" class=\"dataframe\">\n",
       "  <thead>\n",
       "    <tr style=\"text-align: right;\">\n",
       "      <th></th>\n",
       "      <th>year</th>\n",
       "      <th>tempmax_x</th>\n",
       "      <th>tempmin_x</th>\n",
       "      <th>temp</th>\n",
       "      <th>feelslikemax</th>\n",
       "      <th>feelslikemin</th>\n",
       "      <th>feelslike</th>\n",
       "      <th>dew</th>\n",
       "      <th>humidity</th>\n",
       "      <th>precipprob</th>\n",
       "      <th>...</th>\n",
       "      <th>weathercode</th>\n",
       "      <th>tempmax_y</th>\n",
       "      <th>tempmin_y</th>\n",
       "      <th>temperature_2m_mean</th>\n",
       "      <th>apparent_temperature_mean</th>\n",
       "      <th>precipitation_sum</th>\n",
       "      <th>precipitation_hours</th>\n",
       "      <th>windspeed_y</th>\n",
       "      <th>et0_fao_evapotranspiration</th>\n",
       "      <th>month</th>\n",
       "    </tr>\n",
       "  </thead>\n",
       "  <tbody>\n",
       "    <tr>\n",
       "      <th>1</th>\n",
       "      <td>2015</td>\n",
       "      <td>28.9</td>\n",
       "      <td>17.5</td>\n",
       "      <td>21.2</td>\n",
       "      <td>28.8</td>\n",
       "      <td>17.5</td>\n",
       "      <td>21.2</td>\n",
       "      <td>16.5</td>\n",
       "      <td>76.7</td>\n",
       "      <td>100.0</td>\n",
       "      <td>...</td>\n",
       "      <td>53</td>\n",
       "      <td>21.7</td>\n",
       "      <td>18.3</td>\n",
       "      <td>20.1</td>\n",
       "      <td>22.0</td>\n",
       "      <td>7.0</td>\n",
       "      <td>13.0</td>\n",
       "      <td>10.8</td>\n",
       "      <td>0.82</td>\n",
       "      <td>1</td>\n",
       "    </tr>\n",
       "    <tr>\n",
       "      <th>24</th>\n",
       "      <td>2016</td>\n",
       "      <td>33.3</td>\n",
       "      <td>20.4</td>\n",
       "      <td>26.0</td>\n",
       "      <td>33.4</td>\n",
       "      <td>20.4</td>\n",
       "      <td>26.2</td>\n",
       "      <td>18.0</td>\n",
       "      <td>65.2</td>\n",
       "      <td>100.0</td>\n",
       "      <td>...</td>\n",
       "      <td>1</td>\n",
       "      <td>30.2</td>\n",
       "      <td>21.1</td>\n",
       "      <td>25.6</td>\n",
       "      <td>28.8</td>\n",
       "      <td>0.0</td>\n",
       "      <td>0.0</td>\n",
       "      <td>9.0</td>\n",
       "      <td>3.94</td>\n",
       "      <td>3</td>\n",
       "    </tr>\n",
       "    <tr>\n",
       "      <th>25</th>\n",
       "      <td>2016</td>\n",
       "      <td>33.3</td>\n",
       "      <td>20.4</td>\n",
       "      <td>26.0</td>\n",
       "      <td>33.4</td>\n",
       "      <td>20.4</td>\n",
       "      <td>26.2</td>\n",
       "      <td>18.0</td>\n",
       "      <td>65.2</td>\n",
       "      <td>100.0</td>\n",
       "      <td>...</td>\n",
       "      <td>1</td>\n",
       "      <td>30.2</td>\n",
       "      <td>21.1</td>\n",
       "      <td>25.6</td>\n",
       "      <td>28.8</td>\n",
       "      <td>0.0</td>\n",
       "      <td>0.0</td>\n",
       "      <td>9.0</td>\n",
       "      <td>3.94</td>\n",
       "      <td>3</td>\n",
       "    </tr>\n",
       "    <tr>\n",
       "      <th>34</th>\n",
       "      <td>2015</td>\n",
       "      <td>35.8</td>\n",
       "      <td>22.6</td>\n",
       "      <td>28.5</td>\n",
       "      <td>38.5</td>\n",
       "      <td>22.6</td>\n",
       "      <td>30.0</td>\n",
       "      <td>21.6</td>\n",
       "      <td>70.3</td>\n",
       "      <td>100.0</td>\n",
       "      <td>...</td>\n",
       "      <td>51</td>\n",
       "      <td>31.1</td>\n",
       "      <td>24.0</td>\n",
       "      <td>27.4</td>\n",
       "      <td>31.1</td>\n",
       "      <td>1.6</td>\n",
       "      <td>5.0</td>\n",
       "      <td>20.9</td>\n",
       "      <td>4.28</td>\n",
       "      <td>4</td>\n",
       "    </tr>\n",
       "    <tr>\n",
       "      <th>35</th>\n",
       "      <td>2016</td>\n",
       "      <td>33.2</td>\n",
       "      <td>19.0</td>\n",
       "      <td>26.6</td>\n",
       "      <td>35.8</td>\n",
       "      <td>19.0</td>\n",
       "      <td>27.7</td>\n",
       "      <td>22.2</td>\n",
       "      <td>79.5</td>\n",
       "      <td>100.0</td>\n",
       "      <td>...</td>\n",
       "      <td>65</td>\n",
       "      <td>27.1</td>\n",
       "      <td>21.6</td>\n",
       "      <td>24.7</td>\n",
       "      <td>28.5</td>\n",
       "      <td>26.4</td>\n",
       "      <td>12.0</td>\n",
       "      <td>18.5</td>\n",
       "      <td>1.91</td>\n",
       "      <td>4</td>\n",
       "    </tr>\n",
       "  </tbody>\n",
       "</table>\n",
       "<p>5 rows × 36 columns</p>\n",
       "</div>"
      ],
      "text/plain": [
       "    year  tempmax_x  tempmin_x  temp  feelslikemax  feelslikemin  feelslike  \\\n",
       "1   2015       28.9       17.5  21.2          28.8          17.5       21.2   \n",
       "24  2016       33.3       20.4  26.0          33.4          20.4       26.2   \n",
       "25  2016       33.3       20.4  26.0          33.4          20.4       26.2   \n",
       "34  2015       35.8       22.6  28.5          38.5          22.6       30.0   \n",
       "35  2016       33.2       19.0  26.6          35.8          19.0       27.7   \n",
       "\n",
       "     dew  humidity  precipprob  ... weathercode  tempmax_y  tempmin_y  \\\n",
       "1   16.5      76.7       100.0  ...          53       21.7       18.3   \n",
       "24  18.0      65.2       100.0  ...           1       30.2       21.1   \n",
       "25  18.0      65.2       100.0  ...           1       30.2       21.1   \n",
       "34  21.6      70.3       100.0  ...          51       31.1       24.0   \n",
       "35  22.2      79.5       100.0  ...          65       27.1       21.6   \n",
       "\n",
       "    temperature_2m_mean  apparent_temperature_mean  precipitation_sum  \\\n",
       "1                  20.1                       22.0                7.0   \n",
       "24                 25.6                       28.8                0.0   \n",
       "25                 25.6                       28.8                0.0   \n",
       "34                 27.4                       31.1                1.6   \n",
       "35                 24.7                       28.5               26.4   \n",
       "\n",
       "    precipitation_hours  windspeed_y  et0_fao_evapotranspiration  month  \n",
       "1                  13.0         10.8                        0.82      1  \n",
       "24                  0.0          9.0                        3.94      3  \n",
       "25                  0.0          9.0                        3.94      3  \n",
       "34                  5.0         20.9                        4.28      4  \n",
       "35                 12.0         18.5                        1.91      4  \n",
       "\n",
       "[5 rows x 36 columns]"
      ]
     },
     "execution_count": 28,
     "metadata": {},
     "output_type": "execute_result"
    }
   ],
   "source": [
    "X.head()"
   ]
  },
  {
   "cell_type": "code",
   "execution_count": null,
   "id": "0389f275-7475-4429-b4a9-fc2874bc5851",
   "metadata": {},
   "outputs": [],
   "source": [
    "X = pd.get_dummies(X, columns=['year', 'tempmax_x', 'tempmin_x', 'temp', 'feelslikemax',\n",
    "       'feelslikemin', 'feelslike', 'dew', 'humidity', 'precipprob',\n",
    "       'precipcover', 'preciptype', 'windspeed_x', 'winddir',\n",
    "       'sealevelpressure', 'cloudcover', 'visibility', 'solarradiation',\n",
    "       'solarenergy', 'uvindex', 'sunrise', 'sunset', 'moonphase',\n",
    "       'conditions', 'river_discharge', 'weathercode', 'tempmax_y',\n",
    "       'tempmin_y', 'temperature_2m_mean', 'apparent_temperature_mean',\n",
    "       'precipitation_sum', 'precipitation_hours', 'windspeed_y',\n",
    "       'et0_fao_evapotranspiration', 'month'], drop_first = True, dtype = int)\n",
    "# Check\n",
    "X.head()"
   ]
  },
  {
   "cell_type": "markdown",
   "id": "c4d18cc7-07dc-4d61-a9f5-087e7a5ba0ee",
   "metadata": {},
   "source": [
    "#### Split the data into training and testing sets\n"
   ]
  },
  {
   "cell_type": "code",
   "execution_count": 29,
   "id": "8224a513-9cb4-4b93-980f-4cc9e8436d8d",
   "metadata": {},
   "outputs": [],
   "source": [
    "X_train, X_test, y_train, y_test = train_test_split(X, y, test_size=0.2, random_state=42)"
   ]
  },
  {
   "cell_type": "markdown",
   "id": "c0ecfd99-991a-469f-8e1f-d7e4c036b4ee",
   "metadata": {},
   "source": [
    "## 3. Model Training"
   ]
  },
  {
   "cell_type": "code",
   "execution_count": 30,
   "id": "d637c86e-8ff4-48ad-9359-5cf08399004c",
   "metadata": {},
   "outputs": [
    {
     "ename": "ValueError",
     "evalue": "could not convert string to float: 'rain'",
     "output_type": "error",
     "traceback": [
      "\u001b[1;31m----------------------------------------------------------------\u001b[0m",
      "\u001b[1;31mValueError\u001b[0m                     Traceback (most recent call last)",
      "\u001b[1;32m~\\AppData\\Local\\Temp\\ipykernel_19700\\3227915277.py\u001b[0m in \u001b[0;36m?\u001b[1;34m()\u001b[0m\n\u001b[0;32m      1\u001b[0m \u001b[1;31m# Initialize the model\u001b[0m\u001b[1;33m\u001b[0m\u001b[1;33m\u001b[0m\u001b[0m\n\u001b[0;32m      2\u001b[0m \u001b[0mdt_clf\u001b[0m \u001b[1;33m=\u001b[0m \u001b[0mDecisionTreeClassifier\u001b[0m\u001b[1;33m(\u001b[0m\u001b[0mrandom_state\u001b[0m\u001b[1;33m=\u001b[0m\u001b[1;36m42\u001b[0m\u001b[1;33m)\u001b[0m\u001b[1;33m\u001b[0m\u001b[1;33m\u001b[0m\u001b[0m\n\u001b[0;32m      3\u001b[0m \u001b[1;33m\u001b[0m\u001b[0m\n\u001b[0;32m      4\u001b[0m \u001b[1;31m# Train the model\u001b[0m\u001b[1;33m\u001b[0m\u001b[1;33m\u001b[0m\u001b[0m\n\u001b[1;32m----> 5\u001b[1;33m \u001b[0mdt_clf\u001b[0m\u001b[1;33m.\u001b[0m\u001b[0mfit\u001b[0m\u001b[1;33m(\u001b[0m\u001b[0mX_train\u001b[0m\u001b[1;33m,\u001b[0m \u001b[0my_train\u001b[0m\u001b[1;33m)\u001b[0m\u001b[1;33m\u001b[0m\u001b[1;33m\u001b[0m\u001b[0m\n\u001b[0m",
      "\u001b[1;32m~\\AppData\\Local\\Packages\\PythonSoftwareFoundation.Python.3.11_qbz5n2kfra8p0\\LocalCache\\local-packages\\Python311\\site-packages\\sklearn\\base.py\u001b[0m in \u001b[0;36m?\u001b[1;34m(estimator, *args, **kwargs)\u001b[0m\n\u001b[0;32m   1148\u001b[0m                 skip_parameter_validation=(\n\u001b[0;32m   1149\u001b[0m                     \u001b[0mprefer_skip_nested_validation\u001b[0m \u001b[1;32mor\u001b[0m \u001b[0mglobal_skip_validation\u001b[0m\u001b[1;33m\u001b[0m\u001b[1;33m\u001b[0m\u001b[0m\n\u001b[0;32m   1150\u001b[0m                 )\n\u001b[0;32m   1151\u001b[0m             ):\n\u001b[1;32m-> 1152\u001b[1;33m                 \u001b[1;32mreturn\u001b[0m \u001b[0mfit_method\u001b[0m\u001b[1;33m(\u001b[0m\u001b[0mestimator\u001b[0m\u001b[1;33m,\u001b[0m \u001b[1;33m*\u001b[0m\u001b[0margs\u001b[0m\u001b[1;33m,\u001b[0m \u001b[1;33m**\u001b[0m\u001b[0mkwargs\u001b[0m\u001b[1;33m)\u001b[0m\u001b[1;33m\u001b[0m\u001b[1;33m\u001b[0m\u001b[0m\n\u001b[0m",
      "\u001b[1;32m~\\AppData\\Local\\Packages\\PythonSoftwareFoundation.Python.3.11_qbz5n2kfra8p0\\LocalCache\\local-packages\\Python311\\site-packages\\sklearn\\tree\\_classes.py\u001b[0m in \u001b[0;36m?\u001b[1;34m(self, X, y, sample_weight, check_input)\u001b[0m\n\u001b[0;32m    955\u001b[0m         \u001b[0mself\u001b[0m \u001b[1;33m:\u001b[0m \u001b[0mDecisionTreeClassifier\u001b[0m\u001b[1;33m\u001b[0m\u001b[1;33m\u001b[0m\u001b[0m\n\u001b[0;32m    956\u001b[0m             \u001b[0mFitted\u001b[0m \u001b[0mestimator\u001b[0m\u001b[1;33m.\u001b[0m\u001b[1;33m\u001b[0m\u001b[1;33m\u001b[0m\u001b[0m\n\u001b[0;32m    957\u001b[0m         \"\"\"\n\u001b[0;32m    958\u001b[0m \u001b[1;33m\u001b[0m\u001b[0m\n\u001b[1;32m--> 959\u001b[1;33m         super()._fit(\n\u001b[0m\u001b[0;32m    960\u001b[0m             \u001b[0mX\u001b[0m\u001b[1;33m,\u001b[0m\u001b[1;33m\u001b[0m\u001b[1;33m\u001b[0m\u001b[0m\n\u001b[0;32m    961\u001b[0m             \u001b[0my\u001b[0m\u001b[1;33m,\u001b[0m\u001b[1;33m\u001b[0m\u001b[1;33m\u001b[0m\u001b[0m\n\u001b[0;32m    962\u001b[0m             \u001b[0msample_weight\u001b[0m\u001b[1;33m=\u001b[0m\u001b[0msample_weight\u001b[0m\u001b[1;33m,\u001b[0m\u001b[1;33m\u001b[0m\u001b[1;33m\u001b[0m\u001b[0m\n",
      "\u001b[1;32m~\\AppData\\Local\\Packages\\PythonSoftwareFoundation.Python.3.11_qbz5n2kfra8p0\\LocalCache\\local-packages\\Python311\\site-packages\\sklearn\\tree\\_classes.py\u001b[0m in \u001b[0;36m?\u001b[1;34m(self, X, y, sample_weight, check_input, missing_values_in_feature_mask)\u001b[0m\n\u001b[0;32m    238\u001b[0m             check_X_params = dict(\n\u001b[0;32m    239\u001b[0m                 \u001b[0mdtype\u001b[0m\u001b[1;33m=\u001b[0m\u001b[0mDTYPE\u001b[0m\u001b[1;33m,\u001b[0m \u001b[0maccept_sparse\u001b[0m\u001b[1;33m=\u001b[0m\u001b[1;34m\"csc\"\u001b[0m\u001b[1;33m,\u001b[0m \u001b[0mforce_all_finite\u001b[0m\u001b[1;33m=\u001b[0m\u001b[1;32mFalse\u001b[0m\u001b[1;33m\u001b[0m\u001b[1;33m\u001b[0m\u001b[0m\n\u001b[0;32m    240\u001b[0m             )\n\u001b[0;32m    241\u001b[0m             \u001b[0mcheck_y_params\u001b[0m \u001b[1;33m=\u001b[0m \u001b[0mdict\u001b[0m\u001b[1;33m(\u001b[0m\u001b[0mensure_2d\u001b[0m\u001b[1;33m=\u001b[0m\u001b[1;32mFalse\u001b[0m\u001b[1;33m,\u001b[0m \u001b[0mdtype\u001b[0m\u001b[1;33m=\u001b[0m\u001b[1;32mNone\u001b[0m\u001b[1;33m)\u001b[0m\u001b[1;33m\u001b[0m\u001b[1;33m\u001b[0m\u001b[0m\n\u001b[1;32m--> 242\u001b[1;33m             X, y = self._validate_data(\n\u001b[0m\u001b[0;32m    243\u001b[0m                 \u001b[0mX\u001b[0m\u001b[1;33m,\u001b[0m \u001b[0my\u001b[0m\u001b[1;33m,\u001b[0m \u001b[0mvalidate_separately\u001b[0m\u001b[1;33m=\u001b[0m\u001b[1;33m(\u001b[0m\u001b[0mcheck_X_params\u001b[0m\u001b[1;33m,\u001b[0m \u001b[0mcheck_y_params\u001b[0m\u001b[1;33m)\u001b[0m\u001b[1;33m\u001b[0m\u001b[1;33m\u001b[0m\u001b[0m\n\u001b[0;32m    244\u001b[0m             )\n\u001b[0;32m    245\u001b[0m \u001b[1;33m\u001b[0m\u001b[0m\n",
      "\u001b[1;32m~\\AppData\\Local\\Packages\\PythonSoftwareFoundation.Python.3.11_qbz5n2kfra8p0\\LocalCache\\local-packages\\Python311\\site-packages\\sklearn\\base.py\u001b[0m in \u001b[0;36m?\u001b[1;34m(self, X, y, reset, validate_separately, cast_to_ndarray, **check_params)\u001b[0m\n\u001b[0;32m    613\u001b[0m                 \u001b[1;31m# :(\u001b[0m\u001b[1;33m\u001b[0m\u001b[1;33m\u001b[0m\u001b[0m\n\u001b[0;32m    614\u001b[0m                 \u001b[0mcheck_X_params\u001b[0m\u001b[1;33m,\u001b[0m \u001b[0mcheck_y_params\u001b[0m \u001b[1;33m=\u001b[0m \u001b[0mvalidate_separately\u001b[0m\u001b[1;33m\u001b[0m\u001b[1;33m\u001b[0m\u001b[0m\n\u001b[0;32m    615\u001b[0m                 \u001b[1;32mif\u001b[0m \u001b[1;34m\"estimator\"\u001b[0m \u001b[1;32mnot\u001b[0m \u001b[1;32min\u001b[0m \u001b[0mcheck_X_params\u001b[0m\u001b[1;33m:\u001b[0m\u001b[1;33m\u001b[0m\u001b[1;33m\u001b[0m\u001b[0m\n\u001b[0;32m    616\u001b[0m                     \u001b[0mcheck_X_params\u001b[0m \u001b[1;33m=\u001b[0m \u001b[1;33m{\u001b[0m\u001b[1;33m**\u001b[0m\u001b[0mdefault_check_params\u001b[0m\u001b[1;33m,\u001b[0m \u001b[1;33m**\u001b[0m\u001b[0mcheck_X_params\u001b[0m\u001b[1;33m}\u001b[0m\u001b[1;33m\u001b[0m\u001b[1;33m\u001b[0m\u001b[0m\n\u001b[1;32m--> 617\u001b[1;33m                 \u001b[0mX\u001b[0m \u001b[1;33m=\u001b[0m \u001b[0mcheck_array\u001b[0m\u001b[1;33m(\u001b[0m\u001b[0mX\u001b[0m\u001b[1;33m,\u001b[0m \u001b[0minput_name\u001b[0m\u001b[1;33m=\u001b[0m\u001b[1;34m\"X\"\u001b[0m\u001b[1;33m,\u001b[0m \u001b[1;33m**\u001b[0m\u001b[0mcheck_X_params\u001b[0m\u001b[1;33m)\u001b[0m\u001b[1;33m\u001b[0m\u001b[1;33m\u001b[0m\u001b[0m\n\u001b[0m\u001b[0;32m    618\u001b[0m                 \u001b[1;32mif\u001b[0m \u001b[1;34m\"estimator\"\u001b[0m \u001b[1;32mnot\u001b[0m \u001b[1;32min\u001b[0m \u001b[0mcheck_y_params\u001b[0m\u001b[1;33m:\u001b[0m\u001b[1;33m\u001b[0m\u001b[1;33m\u001b[0m\u001b[0m\n\u001b[0;32m    619\u001b[0m                     \u001b[0mcheck_y_params\u001b[0m \u001b[1;33m=\u001b[0m \u001b[1;33m{\u001b[0m\u001b[1;33m**\u001b[0m\u001b[0mdefault_check_params\u001b[0m\u001b[1;33m,\u001b[0m \u001b[1;33m**\u001b[0m\u001b[0mcheck_y_params\u001b[0m\u001b[1;33m}\u001b[0m\u001b[1;33m\u001b[0m\u001b[1;33m\u001b[0m\u001b[0m\n\u001b[0;32m    620\u001b[0m                 \u001b[0my\u001b[0m \u001b[1;33m=\u001b[0m \u001b[0mcheck_array\u001b[0m\u001b[1;33m(\u001b[0m\u001b[0my\u001b[0m\u001b[1;33m,\u001b[0m \u001b[0minput_name\u001b[0m\u001b[1;33m=\u001b[0m\u001b[1;34m\"y\"\u001b[0m\u001b[1;33m,\u001b[0m \u001b[1;33m**\u001b[0m\u001b[0mcheck_y_params\u001b[0m\u001b[1;33m)\u001b[0m\u001b[1;33m\u001b[0m\u001b[1;33m\u001b[0m\u001b[0m\n",
      "\u001b[1;32m~\\AppData\\Local\\Packages\\PythonSoftwareFoundation.Python.3.11_qbz5n2kfra8p0\\LocalCache\\local-packages\\Python311\\site-packages\\sklearn\\utils\\validation.py\u001b[0m in \u001b[0;36m?\u001b[1;34m(array, accept_sparse, accept_large_sparse, dtype, order, copy, force_all_finite, ensure_2d, allow_nd, ensure_min_samples, ensure_min_features, estimator, input_name)\u001b[0m\n\u001b[0;32m    912\u001b[0m                         )\n\u001b[0;32m    913\u001b[0m                     \u001b[0marray\u001b[0m \u001b[1;33m=\u001b[0m \u001b[0mxp\u001b[0m\u001b[1;33m.\u001b[0m\u001b[0mastype\u001b[0m\u001b[1;33m(\u001b[0m\u001b[0marray\u001b[0m\u001b[1;33m,\u001b[0m \u001b[0mdtype\u001b[0m\u001b[1;33m,\u001b[0m \u001b[0mcopy\u001b[0m\u001b[1;33m=\u001b[0m\u001b[1;32mFalse\u001b[0m\u001b[1;33m)\u001b[0m\u001b[1;33m\u001b[0m\u001b[1;33m\u001b[0m\u001b[0m\n\u001b[0;32m    914\u001b[0m                 \u001b[1;32melse\u001b[0m\u001b[1;33m:\u001b[0m\u001b[1;33m\u001b[0m\u001b[1;33m\u001b[0m\u001b[0m\n\u001b[0;32m    915\u001b[0m                     \u001b[0marray\u001b[0m \u001b[1;33m=\u001b[0m \u001b[0m_asarray_with_order\u001b[0m\u001b[1;33m(\u001b[0m\u001b[0marray\u001b[0m\u001b[1;33m,\u001b[0m \u001b[0morder\u001b[0m\u001b[1;33m=\u001b[0m\u001b[0morder\u001b[0m\u001b[1;33m,\u001b[0m \u001b[0mdtype\u001b[0m\u001b[1;33m=\u001b[0m\u001b[0mdtype\u001b[0m\u001b[1;33m,\u001b[0m \u001b[0mxp\u001b[0m\u001b[1;33m=\u001b[0m\u001b[0mxp\u001b[0m\u001b[1;33m)\u001b[0m\u001b[1;33m\u001b[0m\u001b[1;33m\u001b[0m\u001b[0m\n\u001b[1;32m--> 916\u001b[1;33m             \u001b[1;32mexcept\u001b[0m \u001b[0mComplexWarning\u001b[0m \u001b[1;32mas\u001b[0m \u001b[0mcomplex_warning\u001b[0m\u001b[1;33m:\u001b[0m\u001b[1;33m\u001b[0m\u001b[1;33m\u001b[0m\u001b[0m\n\u001b[0m\u001b[0;32m    917\u001b[0m                 raise ValueError(\n\u001b[0;32m    918\u001b[0m                     \u001b[1;34m\"Complex data not supported\\n{}\\n\"\u001b[0m\u001b[1;33m.\u001b[0m\u001b[0mformat\u001b[0m\u001b[1;33m(\u001b[0m\u001b[0marray\u001b[0m\u001b[1;33m)\u001b[0m\u001b[1;33m\u001b[0m\u001b[1;33m\u001b[0m\u001b[0m\n\u001b[0;32m    919\u001b[0m                 ) from complex_warning\n",
      "\u001b[1;32m~\\AppData\\Local\\Packages\\PythonSoftwareFoundation.Python.3.11_qbz5n2kfra8p0\\LocalCache\\local-packages\\Python311\\site-packages\\sklearn\\utils\\_array_api.py\u001b[0m in \u001b[0;36m?\u001b[1;34m(array, dtype, order, copy, xp)\u001b[0m\n\u001b[0;32m    376\u001b[0m         \u001b[1;31m# Use NumPy API to support order\u001b[0m\u001b[1;33m\u001b[0m\u001b[1;33m\u001b[0m\u001b[0m\n\u001b[0;32m    377\u001b[0m         \u001b[1;32mif\u001b[0m \u001b[0mcopy\u001b[0m \u001b[1;32mis\u001b[0m \u001b[1;32mTrue\u001b[0m\u001b[1;33m:\u001b[0m\u001b[1;33m\u001b[0m\u001b[1;33m\u001b[0m\u001b[0m\n\u001b[0;32m    378\u001b[0m             \u001b[0marray\u001b[0m \u001b[1;33m=\u001b[0m \u001b[0mnumpy\u001b[0m\u001b[1;33m.\u001b[0m\u001b[0marray\u001b[0m\u001b[1;33m(\u001b[0m\u001b[0marray\u001b[0m\u001b[1;33m,\u001b[0m \u001b[0morder\u001b[0m\u001b[1;33m=\u001b[0m\u001b[0morder\u001b[0m\u001b[1;33m,\u001b[0m \u001b[0mdtype\u001b[0m\u001b[1;33m=\u001b[0m\u001b[0mdtype\u001b[0m\u001b[1;33m)\u001b[0m\u001b[1;33m\u001b[0m\u001b[1;33m\u001b[0m\u001b[0m\n\u001b[0;32m    379\u001b[0m         \u001b[1;32melse\u001b[0m\u001b[1;33m:\u001b[0m\u001b[1;33m\u001b[0m\u001b[1;33m\u001b[0m\u001b[0m\n\u001b[1;32m--> 380\u001b[1;33m             \u001b[0marray\u001b[0m \u001b[1;33m=\u001b[0m \u001b[0mnumpy\u001b[0m\u001b[1;33m.\u001b[0m\u001b[0masarray\u001b[0m\u001b[1;33m(\u001b[0m\u001b[0marray\u001b[0m\u001b[1;33m,\u001b[0m \u001b[0morder\u001b[0m\u001b[1;33m=\u001b[0m\u001b[0morder\u001b[0m\u001b[1;33m,\u001b[0m \u001b[0mdtype\u001b[0m\u001b[1;33m=\u001b[0m\u001b[0mdtype\u001b[0m\u001b[1;33m)\u001b[0m\u001b[1;33m\u001b[0m\u001b[1;33m\u001b[0m\u001b[0m\n\u001b[0m\u001b[0;32m    381\u001b[0m \u001b[1;33m\u001b[0m\u001b[0m\n\u001b[0;32m    382\u001b[0m         \u001b[1;31m# At this point array is a NumPy ndarray. We convert it to an array\u001b[0m\u001b[1;33m\u001b[0m\u001b[1;33m\u001b[0m\u001b[0m\n\u001b[0;32m    383\u001b[0m         \u001b[1;31m# container that is consistent with the input's namespace.\u001b[0m\u001b[1;33m\u001b[0m\u001b[1;33m\u001b[0m\u001b[0m\n",
      "\u001b[1;32m~\\AppData\\Local\\Packages\\PythonSoftwareFoundation.Python.3.11_qbz5n2kfra8p0\\LocalCache\\local-packages\\Python311\\site-packages\\pandas\\core\\generic.py\u001b[0m in \u001b[0;36m?\u001b[1;34m(self, dtype)\u001b[0m\n\u001b[0;32m   1996\u001b[0m     \u001b[1;32mdef\u001b[0m \u001b[0m__array__\u001b[0m\u001b[1;33m(\u001b[0m\u001b[0mself\u001b[0m\u001b[1;33m,\u001b[0m \u001b[0mdtype\u001b[0m\u001b[1;33m:\u001b[0m \u001b[0mnpt\u001b[0m\u001b[1;33m.\u001b[0m\u001b[0mDTypeLike\u001b[0m \u001b[1;33m|\u001b[0m \u001b[1;32mNone\u001b[0m \u001b[1;33m=\u001b[0m \u001b[1;32mNone\u001b[0m\u001b[1;33m)\u001b[0m \u001b[1;33m->\u001b[0m \u001b[0mnp\u001b[0m\u001b[1;33m.\u001b[0m\u001b[0mndarray\u001b[0m\u001b[1;33m:\u001b[0m\u001b[1;33m\u001b[0m\u001b[1;33m\u001b[0m\u001b[0m\n\u001b[0;32m   1997\u001b[0m         \u001b[0mvalues\u001b[0m \u001b[1;33m=\u001b[0m \u001b[0mself\u001b[0m\u001b[1;33m.\u001b[0m\u001b[0m_values\u001b[0m\u001b[1;33m\u001b[0m\u001b[1;33m\u001b[0m\u001b[0m\n\u001b[1;32m-> 1998\u001b[1;33m         \u001b[0marr\u001b[0m \u001b[1;33m=\u001b[0m \u001b[0mnp\u001b[0m\u001b[1;33m.\u001b[0m\u001b[0masarray\u001b[0m\u001b[1;33m(\u001b[0m\u001b[0mvalues\u001b[0m\u001b[1;33m,\u001b[0m \u001b[0mdtype\u001b[0m\u001b[1;33m=\u001b[0m\u001b[0mdtype\u001b[0m\u001b[1;33m)\u001b[0m\u001b[1;33m\u001b[0m\u001b[1;33m\u001b[0m\u001b[0m\n\u001b[0m\u001b[0;32m   1999\u001b[0m         if (\n\u001b[0;32m   2000\u001b[0m             \u001b[0mastype_is_view\u001b[0m\u001b[1;33m(\u001b[0m\u001b[0mvalues\u001b[0m\u001b[1;33m.\u001b[0m\u001b[0mdtype\u001b[0m\u001b[1;33m,\u001b[0m \u001b[0marr\u001b[0m\u001b[1;33m.\u001b[0m\u001b[0mdtype\u001b[0m\u001b[1;33m)\u001b[0m\u001b[1;33m\u001b[0m\u001b[1;33m\u001b[0m\u001b[0m\n\u001b[0;32m   2001\u001b[0m             \u001b[1;32mand\u001b[0m \u001b[0musing_copy_on_write\u001b[0m\u001b[1;33m(\u001b[0m\u001b[1;33m)\u001b[0m\u001b[1;33m\u001b[0m\u001b[1;33m\u001b[0m\u001b[0m\n",
      "\u001b[1;31mValueError\u001b[0m: could not convert string to float: 'rain'"
     ]
    }
   ],
   "source": [
    "# Initialize the model\n",
    "dt_clf = DecisionTreeClassifier(random_state=42)\n",
    "\n",
    "# Train the model\n",
    "dt_clf.fit(X_train, y_train)"
   ]
  },
  {
   "cell_type": "markdown",
   "id": "18b1102f-5a9d-4489-9af4-45cf3212c389",
   "metadata": {},
   "source": [
    "## 4. Model Evaluation"
   ]
  },
  {
   "cell_type": "code",
   "execution_count": null,
   "id": "c6a0db65-9b37-4dd3-af40-21c2eea07c97",
   "metadata": {},
   "outputs": [],
   "source": [
    "from sklearn.metrics import accuracy_score, confusion_matrix, classification_report\n",
    "from sklearn.metrics import roc_curve, roc_auc_score\n",
    "# Make predictions\n",
    "y_pred_dt = dt_clf.predict(X_test)\n",
    "\n",
    "# Calculate accuracy\n",
    "accuracy = accuracy_score(y_test, y_pred_dt)\n",
    "print(f'Accuracy: {accuracy}')\n",
    "\n",
    "# Show confusion matrix\n",
    "cm = confusion_matrix(y_test, y_pred_dt)\n",
    "print(f'Confusion Matrix:\\n{cm}')"
   ]
  },
  {
   "cell_type": "code",
   "execution_count": null,
   "id": "0f419508-e97f-436e-bd37-612aeddc0809",
   "metadata": {},
   "outputs": [],
   "source": [
    "Accuracy = (195+2)/(195+2+1+2)\n",
    "Accuracy"
   ]
  },
  {
   "cell_type": "markdown",
   "id": "0ce1bf4c-99fb-4f95-ab05-ba8fa1ebf920",
   "metadata": {},
   "source": [
    "Here, we're making predictions on our testing set and calculating the accuracy of those predictions. The accuracy score is the proportion of correct predictions made by the model. The confusion matrix shows the breakdown of true positives, true negatives, false positives, and false negatives."
   ]
  },
  {
   "cell_type": "code",
   "execution_count": null,
   "id": "8ca4c939-70f2-48d7-be0b-8b69ab502d31",
   "metadata": {},
   "outputs": [],
   "source": [
    "print(classification_report(y_test, y_pred_dt))"
   ]
  },
  {
   "cell_type": "code",
   "execution_count": null,
   "id": "58dbcc13-9ac6-4d2c-b916-65745954bc81",
   "metadata": {},
   "outputs": [],
   "source": [
    "precision_class0 = 195/(195+1)\n",
    "precision_class0"
   ]
  },
  {
   "cell_type": "code",
   "execution_count": null,
   "id": "0acdc492-5e46-4a85-8275-b5c1bd179de4",
   "metadata": {},
   "outputs": [],
   "source": [
    "precision_class1 = 2/(2+2)\n",
    "precision_class1"
   ]
  },
  {
   "cell_type": "code",
   "execution_count": null,
   "id": "124bc9ab-c68c-4524-bdc8-bd72e5fb7fde",
   "metadata": {},
   "outputs": [],
   "source": [
    "Recall=2/(2+1)\n",
    "Recall"
   ]
  },
  {
   "cell_type": "markdown",
   "id": "c72d50f2-8018-4328-9dd1-cd71e971ff94",
   "metadata": {},
   "source": [
    "99% Model perdicts correct precipitation of no rain"
   ]
  },
  {
   "cell_type": "code",
   "execution_count": null,
   "id": "33ff4157-d1bc-4b23-afdf-0419c7ac94a3",
   "metadata": {},
   "outputs": [],
   "source": [
    "y_pred_dt = dt_clf.predict(X_test)\n",
    "y_pred_dt"
   ]
  },
  {
   "cell_type": "code",
   "execution_count": null,
   "id": "d1ae6bf0-4bcc-4118-92ee-e33de2500148",
   "metadata": {},
   "outputs": [],
   "source": [
    "y_pred_proba_dt = dt_clf.predict_proba(X_test)[:,1]\n",
    "y_pred_proba_dt"
   ]
  },
  {
   "cell_type": "code",
   "execution_count": null,
   "id": "8885db25-563e-4997-98cd-8a01a5dd3f47",
   "metadata": {},
   "outputs": [],
   "source": [
    "# Get the model's probability predictions for the positive class\n",
    "y_pred_proba_dt = dt_clf.predict_proba(X_test)[::,1]\n",
    "\n",
    "# Compute the ROC curve\n",
    "fpr_dt, tpr_dt, thresholds = roc_curve(y_test, y_pred_proba_dt)\n",
    "\n",
    "# Calculate AUC\n",
    "roc_auc_dt = roc_auc_score(y_test, y_pred_proba_dt)\n",
    "\n",
    "# Plot the ROC curve\n",
    "plt.figure(figsize=(10, 8))\n",
    "plt.plot(fpr_dt, tpr_dt, label=f'Decision Tree (AUC = {roc_auc_dt:.2f})')\n",
    "\n",
    "# Plot the diagonal line for a random classifier\n",
    "plt.plot([0, 1], [0, 1], linestyle='--', color='red', label='Random Classifier')\n",
    "\n",
    "plt.xlabel('False Positive Rate')\n",
    "plt.ylabel('True Positive Rate')\n",
    "plt.title('Receiver Operating Characteristic (ROC) Curve')\n",
    "plt.legend()\n",
    "\n",
    "plt.show()"
   ]
  },
  {
   "cell_type": "code",
   "execution_count": null,
   "id": "b505debb-cbd0-4585-bba7-1041ed715aac",
   "metadata": {},
   "outputs": [],
   "source": [
    "# Plot the decision tree\n",
    "plt.figure(figsize=(15,15))\n",
    "plot_tree(dt_clf, feature_names=X.columns, class_names=['0','1'], filled=True)\n",
    "plt.show()"
   ]
  },
  {
   "cell_type": "code",
   "execution_count": null,
   "id": "ed700215-ddaa-40ec-bbaf-faac92c0b9bd",
   "metadata": {},
   "outputs": [],
   "source": [
    "# Initialize the model\n",
    "rf_clf = RandomForestClassifier(random_state=42)\n",
    "\n",
    "# Train the model\n",
    "rf_clf.fit(X_train, y_train)"
   ]
  },
  {
   "cell_type": "code",
   "execution_count": null,
   "id": "5dd217e0-c3b5-4a05-a585-4c1ec306d81c",
   "metadata": {},
   "outputs": [],
   "source": [
    "# Make predictions\n",
    "y_pred_rf = rf_clf.predict(X_test)\n",
    "\n",
    "# Calculate accuracy\n",
    "accuracy = accuracy_score(y_test, y_pred_rf)\n",
    "print(f'Accuracy: {accuracy}')\n",
    "\n",
    "# Show confusion matrix\n",
    "cm = confusion_matrix(y_test, y_pred_rf)\n",
    "print(f'Confusion Matrix:\\n{cm}')"
   ]
  },
  {
   "cell_type": "code",
   "execution_count": null,
   "id": "3a62b7ea-3b1a-4e8a-bbe0-6bf8ec1bc821",
   "metadata": {},
   "outputs": [],
   "source": [
    "print(classification_report(y_test, y_pred_rf))"
   ]
  },
  {
   "cell_type": "code",
   "execution_count": null,
   "id": "cc6b462d-755a-4d0a-8098-335e4711db80",
   "metadata": {},
   "outputs": [],
   "source": [
    "# Get the model's probability predictions for the positive class\n",
    "y_pred_proba_rf = rf_clf.predict_proba(X_test)[::,1]\n",
    "\n",
    "# Compute the ROC curve\n",
    "fpr_rf, tpr_rf, thresholds = roc_curve(y_test, y_pred_proba_rf)\n",
    "\n",
    "# Calculate AUC\n",
    "roc_auc_rf = roc_auc_score(y_test, y_pred_proba_rf)\n",
    "\n",
    "# Plot the ROC curve\n",
    "plt.figure(figsize=(10, 8))\n",
    "plt.plot(fpr_rf, tpr_rf, label=f'Random Forest (AUC = {roc_auc_rf:.2f})')\n",
    "\n",
    "# Plot the diagonal line for a random classifier\n",
    "plt.plot([0, 1], [0, 1], linestyle='--', color='red', label='Random Classifier')\n",
    "\n",
    "plt.xlabel('False Positive Rate')\n",
    "plt.ylabel('True Positive Rate')\n",
    "plt.title('Receiver Operating Characteristic (ROC) Curve')\n",
    "plt.legend()\n",
    "\n",
    "plt.show()"
   ]
  },
  {
   "cell_type": "code",
   "execution_count": null,
   "id": "53331216-ab11-4496-88b4-aa65646f98a1",
   "metadata": {},
   "outputs": [],
   "source": [
    "# Decision Tree\n",
    "plt.plot(fpr_dt,tpr_dt,label=\"Decision Tree, auc=\"+str(roc_auc_dt))\n",
    "\n",
    "# Random Forest\n",
    "plt.plot(fpr_rf,tpr_rf,label=\"Random Forest, auc=\"+str(roc_auc_rf))\n",
    "\n",
    "plt.legend(loc=4)\n",
    "plt.show()"
   ]
  },
  {
   "cell_type": "code",
   "execution_count": null,
   "id": "30a33117-9bb2-4807-bf3d-5d6247165a29",
   "metadata": {},
   "outputs": [],
   "source": [
    "scaler = StandardScaler()\n",
    "X_scaled = scaler.fit_transform(X)"
   ]
  },
  {
   "cell_type": "code",
   "execution_count": null,
   "id": "e23eadb0-5e7f-44f9-9d74-9fcbf7041f6f",
   "metadata": {},
   "outputs": [],
   "source": [
    "X_train, X_test, y_train, y_test = train_test_split(X_scaled, y, test_size=0.2, random_state=42)"
   ]
  },
  {
   "cell_type": "markdown",
   "id": "a1de36ee-1a67-44d4-9446-95e5fd15752a",
   "metadata": {},
   "source": [
    "## Handling Imbalanced Data\n",
    "In classification problems, it's common to have imbalanced classes, i.e., one class has significantly more samples than the other. This can lead to poor performance for the minority class. Techniques to handle imbalanced data include:\n",
    "\n",
    "Oversampling: This involves increasing the number of instances in the minority class by randomly replicating them in order to present a higher representation.\n",
    "\n",
    "Undersampling: This refers to reducing the data of the majority class, bringing balance to the dataset.\n",
    "\n",
    "SMOTE (Synthetic Minority Over-sampling Technique): This is a combination of oversampling and undersampling, but the oversampling approach is not by replicating minority class but constructing new minority class data instance via an algorithm.\n",
    "\n",
    "Note: these techniques don't always improve results. It's essential to validate performance with a hold-out test set to ensure the tuning steps have improved your model."
   ]
  },
  {
   "cell_type": "code",
   "execution_count": null,
   "id": "165fa199-5f7b-44ce-8416-9a46dc373947",
   "metadata": {},
   "outputs": [],
   "source": [
    "# Create a binary classification dataset with imbalanced class distribution\n",
    "X, y = make_classification(n_samples=1000, n_features=20, n_informative=2, n_redundant=10,\n",
    "                           n_clusters_per_class=1, weights=[0.99], flip_y=0, random_state=1)\n",
    "\n",
    "# Split the dataset into training and test sets\n",
    "X_train, X_test, y_train, y_test = train_test_split(X, y, test_size=0.2, random_state=42)\n",
    "\n",
    "# Apply SMOTE to the training data\n",
    "smote = SMOTE(sampling_strategy='minority')\n",
    "X_sm, y_sm = smote.fit_resample(X_train, y_train)\n",
    "\n",
    "# Train a Random Forest classifier on the over-sampled data\n",
    "rf = RandomForestClassifier(n_estimators=100, random_state=42)\n",
    "rf.fit(X_sm, y_sm)\n",
    "\n",
    "# Evaluate the model\n",
    "y_pred = rf.predict(X_test)\n",
    "print(classification_report(y_test, y_pred))"
   ]
  },
  {
   "cell_type": "code",
   "execution_count": null,
   "id": "627c642d-518d-477e-b6d7-08d718ce0374",
   "metadata": {},
   "outputs": [],
   "source": [
    "from imblearn.under_sampling import RandomUnderSampler\n",
    "\n",
    "# Apply under-sampling to the training data\n",
    "undersampler = RandomUnderSampler(sampling_strategy='majority')\n",
    "X_us, y_us = undersampler.fit_resample(X_train, y_train)\n",
    "\n",
    "# Train a Random Forest classifier on the under-sampled data\n",
    "rf = RandomForestClassifier(n_estimators=100, random_state=42)\n",
    "rf.fit(X_us, y_us)\n",
    "\n",
    "# Evaluate the model\n",
    "y_pred = rf.predict(X_test)\n",
    "print(classification_report(y_test, y_pred))"
   ]
  },
  {
   "cell_type": "code",
   "execution_count": null,
   "id": "eafe52f6-9224-44ba-a53e-92c47a97452d",
   "metadata": {},
   "outputs": [],
   "source": []
  }
 ],
 "metadata": {
  "kernelspec": {
   "display_name": "Python 3 (ipykernel)",
   "language": "python",
   "name": "python3"
  },
  "language_info": {
   "codemirror_mode": {
    "name": "ipython",
    "version": 3
   },
   "file_extension": ".py",
   "mimetype": "text/x-python",
   "name": "python",
   "nbconvert_exporter": "python",
   "pygments_lexer": "ipython3",
   "version": "3.11.6"
  }
 },
 "nbformat": 4,
 "nbformat_minor": 5
}
