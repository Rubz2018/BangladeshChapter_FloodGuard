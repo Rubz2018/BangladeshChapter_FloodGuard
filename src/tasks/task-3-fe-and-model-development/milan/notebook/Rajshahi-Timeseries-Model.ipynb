{
 "cells": [
  {
   "cell_type": "markdown",
   "id": "05b8727f-41d2-44ed-9ced-7442607238bc",
   "metadata": {},
   "source": [
    "# This notebook contain working on Rajshahi dataset Feature engineering and Model development Analysis using\n",
    "### - Timeseries\n"
   ]
  },
  {
   "cell_type": "code",
   "execution_count": 1,
   "id": "3ff809be-6de9-4217-8427-264175788cfc",
   "metadata": {},
   "outputs": [
    {
     "name": "stdout",
     "output_type": "stream",
     "text": [
      "2.13.1\n"
     ]
    }
   ],
   "source": [
    "import tensorflow as tf\n",
    "print(tf.__version__)"
   ]
  },
  {
   "cell_type": "markdown",
   "id": "f86fc43d-0013-42be-b324-bdf9fb2e4176",
   "metadata": {},
   "source": [
    "## Import liabraries"
   ]
  },
  {
   "cell_type": "code",
   "execution_count": 2,
   "id": "bd0ebb6d-8f92-4cef-aa8c-ee7d3371a187",
   "metadata": {},
   "outputs": [],
   "source": [
    "import datetime\n",
    "\n",
    "import numpy as np\n",
    "import pandas as pd\n",
    "import seaborn as sns\n",
    "import tensorflow as tf\n",
    "import matplotlib.pyplot as plt\n",
    "\n",
    "from tensorflow.keras import Model, Sequential\n",
    "\n",
    "from tensorflow.keras.optimizers import Adam\n",
    "from tensorflow.keras.callbacks import EarlyStopping\n",
    "from tensorflow.keras.losses import MeanSquaredError\n",
    "from tensorflow.keras.metrics import MeanAbsoluteError\n",
    "\n",
    "from tensorflow.keras.layers import Dense, Conv1D, LSTM, Lambda, Reshape, RNN, LSTMCell\n",
    "\n",
    "import warnings\n",
    "warnings.filterwarnings('ignore')"
   ]
  },
  {
   "cell_type": "code",
   "execution_count": 3,
   "id": "878ed69f-6690-404b-9515-3cad92ed5e2a",
   "metadata": {},
   "outputs": [],
   "source": [
    "plt.rcParams['figure.figsize'] = (10, 7.5)\n",
    "plt.rcParams['axes.grid'] = False"
   ]
  },
  {
   "cell_type": "code",
   "execution_count": 4,
   "id": "0c0681ff-e417-48cd-82d1-bdd76f567e6d",
   "metadata": {},
   "outputs": [],
   "source": [
    "tf.random.set_seed(42)\n",
    "np.random.seed(42)"
   ]
  },
  {
   "cell_type": "code",
   "execution_count": 5,
   "id": "66311586-17a1-4155-897c-a607def4ab94",
   "metadata": {},
   "outputs": [],
   "source": [
    "train_df = pd.read_csv('../data/train.csv', index_col='datetime',parse_dates=True)\n",
    "val_df = pd.read_csv('../data/val.csv', index_col='datetime',parse_dates=True)\n",
    "test_df = pd.read_csv('../data/test.csv', index_col='datetime',parse_dates=True)"
   ]
  },
  {
   "cell_type": "code",
   "execution_count": 6,
   "id": "f858784e-7538-4095-b8a5-eb74752a146a",
   "metadata": {},
   "outputs": [
    {
     "name": "stdout",
     "output_type": "stream",
     "text": [
      "(2972, 25) (850, 25) (425, 25)\n"
     ]
    }
   ],
   "source": [
    "print(train_df.shape, val_df.shape, test_df.shape)"
   ]
  },
  {
   "cell_type": "code",
   "execution_count": 7,
   "id": "6c10a4dc-173c-4fae-bdbe-95dfd89003fd",
   "metadata": {},
   "outputs": [],
   "source": [
    "class DataWindow():\n",
    "    def __init__(self, input_width, label_width, shift,\n",
    "                 train_df=train_df, val_df=val_df, test_df=test_df,\n",
    "                 label_columns=None):\n",
    "\n",
    "        self.train_df = train_df\n",
    "        self.val_df = val_df\n",
    "        self.test_df = test_df\n",
    "\n",
    "        self.label_columns = label_columns\n",
    "        if label_columns is not None:\n",
    "            self.label_columns_indices = {name: i for i, name in enumerate(label_columns)}\n",
    "        self.column_indices = {name: i for i, name in enumerate(train_df.columns)}\n",
    "\n",
    "        self.input_width = input_width\n",
    "        self.label_width = label_width\n",
    "        self.shift = shift\n",
    "\n",
    "        self.total_window_size = input_width + shift\n",
    "\n",
    "        self.input_slice = slice(0, input_width)\n",
    "        self.input_indices = np.arange(self.total_window_size)[self.input_slice]\n",
    "\n",
    "        self.label_start = self.total_window_size - self.label_width\n",
    "        self.labels_slice = slice(self.label_start, None)\n",
    "        self.label_indices = np.arange(self.total_window_size)[self.labels_slice]\n",
    "\n",
    "    def split_to_inputs_labels(self, features):\n",
    "        inputs = features[:, self.input_slice, :]\n",
    "        labels = features[:, self.labels_slice, :]\n",
    "        if self.label_columns is not None:\n",
    "            labels = tf.stack(\n",
    "                [labels[:,:,self.column_indices[name]] for name in self.label_columns],\n",
    "                axis=-1\n",
    "            )\n",
    "        inputs.set_shape([None, self.input_width, None])\n",
    "        labels.set_shape([None, self.label_width, None])\n",
    "\n",
    "        return inputs, labels\n",
    "\n",
    "\n",
    "    def make_dataset(self, data):\n",
    "        data = np.array(data, dtype=np.float32)\n",
    "        ds = tf.keras.preprocessing.timeseries_dataset_from_array(\n",
    "            data=data,\n",
    "            targets=None,\n",
    "            sequence_length=self.total_window_size,\n",
    "            sequence_stride=1,\n",
    "            shuffle=True,\n",
    "            batch_size=32\n",
    "        )\n",
    "\n",
    "        ds = ds.map(self.split_to_inputs_labels)\n",
    "        return ds\n",
    "\n",
    "    @property\n",
    "    def train(self):\n",
    "        return self.make_dataset(self.train_df)\n",
    "\n",
    "    @property\n",
    "    def val(self):\n",
    "        return self.make_dataset(self.val_df)\n",
    "\n",
    "    @property\n",
    "    def test(self):\n",
    "        return self.make_dataset(self.test_df)\n",
    "\n",
    "    @property\n",
    "    def sample_batch(self):\n",
    "        result = getattr(self, '_sample_batch', None)\n",
    "        if result is None:\n",
    "            result = next(iter(self.train))\n",
    "            self._sample_batch = result\n",
    "            \n",
    "        return result"
   ]
  },
  {
   "cell_type": "code",
   "execution_count": 8,
   "id": "234d3774-aef4-4644-80e6-27ab8c5fe8d9",
   "metadata": {},
   "outputs": [],
   "source": [
    "class Baseline(Model):\n",
    "    def __init__(self, label_index=None):\n",
    "        super().__init__()\n",
    "        self.label_index = label_index\n",
    "\n",
    "    def call(self, inputs):\n",
    "        if self.label_index is None:\n",
    "            return inputs\n",
    "\n",
    "        elif isinstance(self.label_index, list):\n",
    "            tensors = []\n",
    "            for index in self.label_index:\n",
    "                result = inputs[:, :, index]\n",
    "                result = result[:, :, tf.newaxis]\n",
    "                tensors.append(result)\n",
    "            return tf.concat(tensors, axis=-1)\n",
    "\n",
    "        result = inputs[:, :, self.label_index]\n",
    "        return result[:,:,tf.newaxis]"
   ]
  },
  {
   "cell_type": "code",
   "execution_count": 9,
   "id": "d695c7e8-eb96-4937-bdf8-6ac7d2113d92",
   "metadata": {},
   "outputs": [],
   "source": [
    "mo_single_step_window = DataWindow(input_width=1, label_width=1, shift=1, label_columns=['precip','rain_sum ','river_discharge'])\n",
    "mo_wide_window = DataWindow(input_width=14, label_width=14, shift=1, label_columns=['precip','rain_sum ','river_discharge'])"
   ]
  },
  {
   "cell_type": "code",
   "execution_count": 10,
   "id": "37b79bb6-a5e7-44c9-a8ff-c6c30c105740",
   "metadata": {},
   "outputs": [],
   "source": [
    "column_indices = {name: i for i, name in enumerate(train_df.columns)}"
   ]
  },
  {
   "cell_type": "code",
   "execution_count": 11,
   "id": "d4ffd150-3431-48d2-a56f-09a9d4b3e1df",
   "metadata": {},
   "outputs": [
    {
     "name": "stdout",
     "output_type": "stream",
     "text": [
      "8\n",
      "22\n",
      "19\n"
     ]
    }
   ],
   "source": [
    "print(column_indices['precip'])\n",
    "print(column_indices['rain_sum '])\n",
    "print(column_indices['river_discharge'])"
   ]
  },
  {
   "cell_type": "code",
   "execution_count": 13,
   "id": "06edb8c2-9d64-4b13-b4c3-e0a2c4073606",
   "metadata": {},
   "outputs": [
    {
     "name": "stdout",
     "output_type": "stream",
     "text": [
      "27/27 [==============================] - 0s 2ms/step - loss: 0.0227 - mean_absolute_error: 0.0740\n"
     ]
    }
   ],
   "source": [
    "mo_baseline_last = Baseline(label_index=[21,22,23])\n",
    "\n",
    "mo_baseline_last.compile(loss=MeanSquaredError(), metrics=[MeanAbsoluteError()])\n",
    "\n",
    "mo_val_performance = {}\n",
    "mo_performance = {}\n",
    "\n",
    "mo_val_performance['Baseline - Last'] = mo_baseline_last.evaluate(mo_wide_window.val)\n",
    "mo_performance['Baseline - Last'] = mo_baseline_last.evaluate(mo_wide_window.test, verbose=0)"
   ]
  },
  {
   "cell_type": "code",
   "execution_count": 14,
   "id": "c03ac183-8241-4de7-a3ec-2fc2b0b7c27f",
   "metadata": {},
   "outputs": [
    {
     "name": "stdout",
     "output_type": "stream",
     "text": [
      "0.10904384404420853\n"
     ]
    }
   ],
   "source": [
    "print(mo_performance['Baseline - Last'][1])"
   ]
  },
  {
   "cell_type": "code",
   "execution_count": 15,
   "id": "9f91a694-787c-462b-99ac-eac78621b56e",
   "metadata": {},
   "outputs": [],
   "source": [
    "def compile_and_fit(model, window, patience=3, max_epochs=50):\n",
    "    early_stopping = EarlyStopping(monitor='val_loss',\n",
    "                                   patience=patience,\n",
    "                                   mode='min')\n",
    "\n",
    "    model.compile(loss=MeanSquaredError(),\n",
    "                  optimizer=Adam(),\n",
    "                  metrics=[MeanAbsoluteError()])\n",
    "\n",
    "    history = model.fit(window.train,\n",
    "                       epochs=max_epochs,\n",
    "                       validation_data=window.val,\n",
    "                       callbacks=[early_stopping])\n",
    "\n",
    "    return history"
   ]
  },
  {
   "cell_type": "code",
   "execution_count": 16,
   "id": "45baffa2-62bf-4091-9c76-c37b338fd7cd",
   "metadata": {},
   "outputs": [
    {
     "name": "stdout",
     "output_type": "stream",
     "text": [
      "Epoch 1/50\n",
      "93/93 [==============================] - 1s 6ms/step - loss: 0.0104 - mean_absolute_error: 0.0595 - val_loss: 0.0054 - val_mean_absolute_error: 0.0467\n",
      "Epoch 2/50\n",
      "93/93 [==============================] - 0s 3ms/step - loss: 0.0024 - mean_absolute_error: 0.0283 - val_loss: 0.0034 - val_mean_absolute_error: 0.0364\n",
      "Epoch 3/50\n",
      "93/93 [==============================] - 0s 3ms/step - loss: 0.0020 - mean_absolute_error: 0.0237 - val_loss: 0.0024 - val_mean_absolute_error: 0.0289\n",
      "Epoch 4/50\n",
      "93/93 [==============================] - 0s 3ms/step - loss: 0.0020 - mean_absolute_error: 0.0241 - val_loss: 0.0018 - val_mean_absolute_error: 0.0267\n",
      "Epoch 5/50\n",
      "93/93 [==============================] - 0s 3ms/step - loss: 0.0019 - mean_absolute_error: 0.0218 - val_loss: 0.0014 - val_mean_absolute_error: 0.0241\n",
      "Epoch 6/50\n",
      "93/93 [==============================] - 0s 3ms/step - loss: 0.0018 - mean_absolute_error: 0.0208 - val_loss: 0.0013 - val_mean_absolute_error: 0.0219\n",
      "Epoch 7/50\n",
      "93/93 [==============================] - 0s 3ms/step - loss: 0.0017 - mean_absolute_error: 0.0210 - val_loss: 0.0013 - val_mean_absolute_error: 0.0242\n",
      "Epoch 8/50\n",
      "93/93 [==============================] - 0s 3ms/step - loss: 0.0017 - mean_absolute_error: 0.0207 - val_loss: 0.0012 - val_mean_absolute_error: 0.0231\n",
      "Epoch 9/50\n",
      "93/93 [==============================] - 0s 3ms/step - loss: 0.0017 - mean_absolute_error: 0.0201 - val_loss: 0.0010 - val_mean_absolute_error: 0.0182\n",
      "Epoch 10/50\n",
      "93/93 [==============================] - 0s 3ms/step - loss: 0.0017 - mean_absolute_error: 0.0207 - val_loss: 0.0011 - val_mean_absolute_error: 0.0223\n",
      "Epoch 11/50\n",
      "93/93 [==============================] - 0s 3ms/step - loss: 0.0017 - mean_absolute_error: 0.0208 - val_loss: 0.0013 - val_mean_absolute_error: 0.0234\n",
      "Epoch 12/50\n",
      "93/93 [==============================] - 0s 3ms/step - loss: 0.0017 - mean_absolute_error: 0.0206 - val_loss: 0.0014 - val_mean_absolute_error: 0.0248\n",
      "27/27 [==============================] - 0s 2ms/step - loss: 0.0014 - mean_absolute_error: 0.0248\n"
     ]
    }
   ],
   "source": [
    "mo_dense = Sequential([\n",
    "    Dense(units=64, activation='relu'),\n",
    "    Dense(units=64, activation='relu'),\n",
    "    Dense(units=3)\n",
    "])\n",
    "\n",
    "history = compile_and_fit(mo_dense, mo_single_step_window)\n",
    "\n",
    "mo_val_performance['Dense'] = mo_dense.evaluate(mo_single_step_window.val)\n",
    "mo_performance['Dense'] = mo_dense.evaluate(mo_single_step_window.test, verbose=0)"
   ]
  },
  {
   "cell_type": "code",
   "execution_count": 17,
   "id": "acbed0be-5246-4fdc-bd51-f43d59c64acb",
   "metadata": {},
   "outputs": [
    {
     "name": "stdout",
     "output_type": "stream",
     "text": [
      "Epoch 1/50\n",
      "93/93 [==============================] - 4s 14ms/step - loss: 0.0160 - mean_absolute_error: 0.0782 - val_loss: 0.0056 - val_mean_absolute_error: 0.0514\n",
      "Epoch 2/50\n",
      "93/93 [==============================] - 1s 8ms/step - loss: 0.0051 - mean_absolute_error: 0.0420 - val_loss: 0.0035 - val_mean_absolute_error: 0.0383\n",
      "Epoch 3/50\n",
      "93/93 [==============================] - 1s 8ms/step - loss: 0.0035 - mean_absolute_error: 0.0324 - val_loss: 0.0025 - val_mean_absolute_error: 0.0314\n",
      "Epoch 4/50\n",
      "93/93 [==============================] - 1s 9ms/step - loss: 0.0028 - mean_absolute_error: 0.0277 - val_loss: 0.0020 - val_mean_absolute_error: 0.0277\n",
      "Epoch 5/50\n",
      "93/93 [==============================] - 1s 9ms/step - loss: 0.0024 - mean_absolute_error: 0.0247 - val_loss: 0.0016 - val_mean_absolute_error: 0.0253\n",
      "Epoch 6/50\n",
      "93/93 [==============================] - 1s 8ms/step - loss: 0.0022 - mean_absolute_error: 0.0234 - val_loss: 0.0014 - val_mean_absolute_error: 0.0234\n",
      "Epoch 7/50\n",
      "93/93 [==============================] - 1s 8ms/step - loss: 0.0021 - mean_absolute_error: 0.0220 - val_loss: 0.0013 - val_mean_absolute_error: 0.0221\n",
      "Epoch 8/50\n",
      "93/93 [==============================] - 1s 8ms/step - loss: 0.0019 - mean_absolute_error: 0.0208 - val_loss: 0.0012 - val_mean_absolute_error: 0.0214\n",
      "Epoch 9/50\n",
      "93/93 [==============================] - 1s 8ms/step - loss: 0.0019 - mean_absolute_error: 0.0202 - val_loss: 0.0011 - val_mean_absolute_error: 0.0199\n",
      "Epoch 10/50\n",
      "93/93 [==============================] - 1s 8ms/step - loss: 0.0018 - mean_absolute_error: 0.0196 - val_loss: 0.0011 - val_mean_absolute_error: 0.0198\n",
      "Epoch 11/50\n",
      "93/93 [==============================] - 1s 9ms/step - loss: 0.0017 - mean_absolute_error: 0.0195 - val_loss: 0.0010 - val_mean_absolute_error: 0.0190\n",
      "Epoch 12/50\n",
      "93/93 [==============================] - 1s 8ms/step - loss: 0.0017 - mean_absolute_error: 0.0186 - val_loss: 9.7523e-04 - val_mean_absolute_error: 0.0187\n",
      "Epoch 13/50\n",
      "93/93 [==============================] - 1s 9ms/step - loss: 0.0017 - mean_absolute_error: 0.0183 - val_loss: 9.9397e-04 - val_mean_absolute_error: 0.0185\n",
      "Epoch 14/50\n",
      "93/93 [==============================] - 1s 9ms/step - loss: 0.0016 - mean_absolute_error: 0.0181 - val_loss: 9.2685e-04 - val_mean_absolute_error: 0.0174\n",
      "Epoch 15/50\n",
      "93/93 [==============================] - 1s 9ms/step - loss: 0.0016 - mean_absolute_error: 0.0178 - val_loss: 9.1266e-04 - val_mean_absolute_error: 0.0166\n",
      "Epoch 16/50\n",
      "93/93 [==============================] - 1s 9ms/step - loss: 0.0016 - mean_absolute_error: 0.0175 - val_loss: 8.9071e-04 - val_mean_absolute_error: 0.0166\n",
      "Epoch 17/50\n",
      "93/93 [==============================] - 1s 9ms/step - loss: 0.0016 - mean_absolute_error: 0.0173 - val_loss: 8.6795e-04 - val_mean_absolute_error: 0.0160\n",
      "Epoch 18/50\n",
      "93/93 [==============================] - 1s 8ms/step - loss: 0.0016 - mean_absolute_error: 0.0172 - val_loss: 8.7317e-04 - val_mean_absolute_error: 0.0163\n",
      "Epoch 19/50\n",
      "93/93 [==============================] - 1s 8ms/step - loss: 0.0015 - mean_absolute_error: 0.0173 - val_loss: 9.1930e-04 - val_mean_absolute_error: 0.0166\n",
      "Epoch 20/50\n",
      "93/93 [==============================] - 1s 8ms/step - loss: 0.0015 - mean_absolute_error: 0.0170 - val_loss: 8.7340e-04 - val_mean_absolute_error: 0.0160\n",
      "27/27 [==============================] - 0s 3ms/step - loss: 8.7340e-04 - mean_absolute_error: 0.0160\n"
     ]
    }
   ],
   "source": [
    "mo_lstm_model = Sequential([\n",
    "    LSTM(32, return_sequences=True),\n",
    "    Dense(units = 3)\n",
    "])\n",
    "\n",
    "history = compile_and_fit(mo_lstm_model, mo_wide_window)\n",
    "\n",
    "mo_val_performance = {}\n",
    "mo_performance = {}\n",
    "\n",
    "mo_val_performance['LSTM'] = mo_lstm_model.evaluate(mo_wide_window.val)\n",
    "mo_performance['LSTM'] = mo_lstm_model.evaluate(mo_wide_window.test, verbose=0)"
   ]
  },
  {
   "cell_type": "code",
   "execution_count": 18,
   "id": "e857715a-8b7d-4e54-8373-d9927aca776a",
   "metadata": {},
   "outputs": [
    {
     "name": "stdout",
     "output_type": "stream",
     "text": [
      "13/13 [==============================] - 0s 1ms/step\n"
     ]
    },
    {
     "data": {
      "text/html": [
       "<div>\n",
       "<style scoped>\n",
       "    .dataframe tbody tr th:only-of-type {\n",
       "        vertical-align: middle;\n",
       "    }\n",
       "\n",
       "    .dataframe tbody tr th {\n",
       "        vertical-align: top;\n",
       "    }\n",
       "\n",
       "    .dataframe thead th {\n",
       "        text-align: right;\n",
       "    }\n",
       "</style>\n",
       "<table border=\"1\" class=\"dataframe\">\n",
       "  <thead>\n",
       "    <tr style=\"text-align: right;\">\n",
       "      <th></th>\n",
       "      <th>river_discharge</th>\n",
       "      <th>rain_sum</th>\n",
       "      <th>precip</th>\n",
       "    </tr>\n",
       "  </thead>\n",
       "  <tbody>\n",
       "    <tr>\n",
       "      <th>0</th>\n",
       "      <td>0.154309</td>\n",
       "      <td>0.154309</td>\n",
       "      <td>0.666667</td>\n",
       "    </tr>\n",
       "    <tr>\n",
       "      <th>1</th>\n",
       "      <td>0.034068</td>\n",
       "      <td>0.034068</td>\n",
       "      <td>0.416667</td>\n",
       "    </tr>\n",
       "    <tr>\n",
       "      <th>2</th>\n",
       "      <td>0.026052</td>\n",
       "      <td>0.026052</td>\n",
       "      <td>0.333333</td>\n",
       "    </tr>\n",
       "    <tr>\n",
       "      <th>3</th>\n",
       "      <td>0.030060</td>\n",
       "      <td>0.030060</td>\n",
       "      <td>0.250000</td>\n",
       "    </tr>\n",
       "    <tr>\n",
       "      <th>4</th>\n",
       "      <td>0.146293</td>\n",
       "      <td>0.146293</td>\n",
       "      <td>0.625000</td>\n",
       "    </tr>\n",
       "    <tr>\n",
       "      <th>5</th>\n",
       "      <td>0.326653</td>\n",
       "      <td>0.326653</td>\n",
       "      <td>0.666667</td>\n",
       "    </tr>\n",
       "    <tr>\n",
       "      <th>6</th>\n",
       "      <td>0.086172</td>\n",
       "      <td>0.086172</td>\n",
       "      <td>0.625000</td>\n",
       "    </tr>\n",
       "    <tr>\n",
       "      <th>7</th>\n",
       "      <td>0.098196</td>\n",
       "      <td>0.098196</td>\n",
       "      <td>0.500000</td>\n",
       "    </tr>\n",
       "    <tr>\n",
       "      <th>8</th>\n",
       "      <td>0.012024</td>\n",
       "      <td>0.012024</td>\n",
       "      <td>0.250000</td>\n",
       "    </tr>\n",
       "    <tr>\n",
       "      <th>9</th>\n",
       "      <td>0.012024</td>\n",
       "      <td>0.012024</td>\n",
       "      <td>0.208333</td>\n",
       "    </tr>\n",
       "    <tr>\n",
       "      <th>10</th>\n",
       "      <td>0.004008</td>\n",
       "      <td>0.004008</td>\n",
       "      <td>0.083333</td>\n",
       "    </tr>\n",
       "    <tr>\n",
       "      <th>11</th>\n",
       "      <td>0.156313</td>\n",
       "      <td>0.156313</td>\n",
       "      <td>0.375000</td>\n",
       "    </tr>\n",
       "    <tr>\n",
       "      <th>12</th>\n",
       "      <td>0.036072</td>\n",
       "      <td>0.036072</td>\n",
       "      <td>0.458333</td>\n",
       "    </tr>\n",
       "    <tr>\n",
       "      <th>13</th>\n",
       "      <td>0.020040</td>\n",
       "      <td>0.020040</td>\n",
       "      <td>0.333333</td>\n",
       "    </tr>\n",
       "  </tbody>\n",
       "</table>\n",
       "</div>"
      ],
      "text/plain": [
       "    river_discharge  rain_sum     precip\n",
       "0          0.154309   0.154309  0.666667\n",
       "1          0.034068   0.034068  0.416667\n",
       "2          0.026052   0.026052  0.333333\n",
       "3          0.030060   0.030060  0.250000\n",
       "4          0.146293   0.146293  0.625000\n",
       "5          0.326653   0.326653  0.666667\n",
       "6          0.086172   0.086172  0.625000\n",
       "7          0.098196   0.098196  0.500000\n",
       "8          0.012024   0.012024  0.250000\n",
       "9          0.012024   0.012024  0.208333\n",
       "10         0.004008   0.004008  0.083333\n",
       "11         0.156313   0.156313  0.375000\n",
       "12         0.036072   0.036072  0.458333\n",
       "13         0.020040   0.020040  0.333333"
      ]
     },
     "execution_count": 18,
     "metadata": {},
     "output_type": "execute_result"
    }
   ],
   "source": [
    "predicted_results = mo_baseline_last.predict(mo_wide_window.test)\n",
    "predicted_array= predicted_results[0]\n",
    "\n",
    "my_array = np.array(predicted_array)\n",
    "\n",
    "df_raw = pd.DataFrame(my_array)\n",
    "\n",
    "df = df_raw.rename(columns={0: \"river_discharge\", 1: \"rain_sum \",2:\"precip\"})\n",
    "\n",
    "\n",
    "df.head(14)"
   ]
  },
  {
   "cell_type": "code",
   "execution_count": 21,
   "id": "02a4ed7c-a12a-4a07-b99d-6ebf87a9f675",
   "metadata": {},
   "outputs": [],
   "source": [
    "mo_lstm_model.save(\"lstm_rajshahi_model.h5\")"
   ]
  },
  {
   "cell_type": "code",
   "execution_count": null,
   "id": "3a0d56e1-a0c9-4972-b67f-8530b724d984",
   "metadata": {},
   "outputs": [],
   "source": []
  }
 ],
 "metadata": {
  "kernelspec": {
   "display_name": "Python 3 (ipykernel)",
   "language": "python",
   "name": "python3"
  },
  "language_info": {
   "codemirror_mode": {
    "name": "ipython",
    "version": 3
   },
   "file_extension": ".py",
   "mimetype": "text/x-python",
   "name": "python",
   "nbconvert_exporter": "python",
   "pygments_lexer": "ipython3",
   "version": "3.11.6"
  }
 },
 "nbformat": 4,
 "nbformat_minor": 5
}
