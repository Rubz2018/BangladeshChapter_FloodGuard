{
 "cells": [
  {
   "cell_type": "markdown",
   "id": "d28fc02a-886d-47a4-9a5c-96d629d4d3f9",
   "metadata": {},
   "source": [
    "# Rajshahi dataset Model testing"
   ]
  },
  {
   "cell_type": "markdown",
   "id": "08d2bcd7-5206-4bed-9d67-3eb2d85d8bbb",
   "metadata": {},
   "source": [
    "#### Import libraries"
   ]
  },
  {
   "cell_type": "code",
   "execution_count": 1,
   "id": "91b96cac-0b3b-4475-8d1f-949c37f48208",
   "metadata": {},
   "outputs": [],
   "source": [
    "import numpy as np\n",
    "import pandas as pd\n",
    "import matplotlib.pyplot as plt\n",
    "\n",
    "import tensorflow as tf\n",
    "\n",
    "from tensorflow.keras import Model, Sequential\n",
    "from tensorflow import keras\n",
    "from tensorflow.keras.optimizers import Adam\n",
    "from tensorflow.keras.callbacks import EarlyStopping\n",
    "from tensorflow.keras.losses import MeanSquaredError\n",
    "from tensorflow.keras.metrics import MeanAbsoluteError\n",
    "\n",
    "from tensorflow.keras.layers import Dense, Conv1D, LSTM, RNN\n",
    "\n",
    "import warnings\n",
    "warnings.filterwarnings('ignore')"
   ]
  },
  {
   "cell_type": "markdown",
   "id": "0ac436bf-6d57-4921-86c9-37669681ae6a",
   "metadata": {},
   "source": [
    "### Load LSTM model file"
   ]
  },
  {
   "cell_type": "code",
   "execution_count": 2,
   "id": "be3ed57a-451c-40f5-86f8-4a73aec3c66e",
   "metadata": {},
   "outputs": [],
   "source": [
    "rajshahi_model = keras.models.load_model(\"lstm_rajshahi_model.h5\")"
   ]
  },
  {
   "cell_type": "markdown",
   "id": "3a8ca2dd-134a-478c-a92f-aa3d818e0ec7",
   "metadata": {},
   "source": [
    "### Read test dataset"
   ]
  },
  {
   "cell_type": "code",
   "execution_count": 3,
   "id": "441da634-6d75-4c7f-bcf3-aee49c05475d",
   "metadata": {},
   "outputs": [],
   "source": [
    "test_df = pd.read_csv(\"../data/test.csv\", index_col='datetime',parse_dates=True)"
   ]
  },
  {
   "cell_type": "code",
   "execution_count": 4,
   "id": "d47432d0-593a-4650-81e4-4b7e6991b0cf",
   "metadata": {},
   "outputs": [
    {
     "name": "stdout",
     "output_type": "stream",
     "text": [
      "DatetimeIndex(['2022-06-19', '2022-06-20', '2022-06-21', '2022-06-22',\n",
      "               '2022-06-23', '2022-06-24', '2022-06-25', '2022-06-26',\n",
      "               '2022-06-27', '2022-06-28',\n",
      "               ...\n",
      "               '2023-08-08', '2023-08-09', '2023-08-10', '2023-08-11',\n",
      "               '2023-08-12', '2023-08-13', '2023-08-14', '2023-08-15',\n",
      "               '2023-08-16', '2023-08-17'],\n",
      "              dtype='datetime64[ns]', name='datetime', length=425, freq=None)\n",
      "<class 'pandas.core.frame.DataFrame'>\n",
      "DatetimeIndex: 425 entries, 2022-06-19 to 2023-08-17\n",
      "Data columns (total 25 columns):\n",
      " #   Column                      Non-Null Count  Dtype  \n",
      "---  ------                      --------------  -----  \n",
      " 0   tempmax                     425 non-null    float64\n",
      " 1   tempmin                     425 non-null    float64\n",
      " 2   temp                        425 non-null    float64\n",
      " 3   feelslikemax                425 non-null    float64\n",
      " 4   feelslikemin                425 non-null    float64\n",
      " 5   feelslike                   425 non-null    float64\n",
      " 6   dew                         425 non-null    float64\n",
      " 7   humidity                    425 non-null    float64\n",
      " 8   precip                      425 non-null    float64\n",
      " 9   precipprob                  425 non-null    float64\n",
      " 10  precipcover                 425 non-null    float64\n",
      " 11  windspeed                   425 non-null    float64\n",
      " 12  winddir                     425 non-null    float64\n",
      " 13  sealevelpressure            425 non-null    float64\n",
      " 14  cloudcover                  425 non-null    float64\n",
      " 15  visibility                  425 non-null    float64\n",
      " 16  solarradiation              425 non-null    float64\n",
      " 17  solarenergy                 425 non-null    float64\n",
      " 18  uvindex                     425 non-null    float64\n",
      " 19  river_discharge             425 non-null    float64\n",
      " 20  apparent_temperature_mean   425 non-null    float64\n",
      " 21  precipitation_sum           425 non-null    float64\n",
      " 22  rain_sum                    425 non-null    float64\n",
      " 23  precipitation_hours         425 non-null    float64\n",
      " 24  et0_fao_evapotranspiration  425 non-null    float64\n",
      "dtypes: float64(25)\n",
      "memory usage: 86.3 KB\n",
      "None\n"
     ]
    }
   ],
   "source": [
    "print(test_df.index)\n",
    "print(test_df.info())"
   ]
  },
  {
   "cell_type": "code",
   "execution_count": 5,
   "id": "b6a0c1ea-89cc-4857-9d7a-5377cf4b9763",
   "metadata": {},
   "outputs": [
    {
     "data": {
      "text/plain": [
       "Index(['tempmax', 'tempmin', 'temp', 'feelslikemax', 'feelslikemin',\n",
       "       'feelslike', 'dew', 'humidity', 'precip', 'precipprob', 'precipcover',\n",
       "       'windspeed', 'winddir', 'sealevelpressure', 'cloudcover', 'visibility',\n",
       "       'solarradiation', 'solarenergy', 'uvindex', 'river_discharge',\n",
       "       'apparent_temperature_mean', 'precipitation_sum ', 'rain_sum ',\n",
       "       'precipitation_hours', 'et0_fao_evapotranspiration'],\n",
       "      dtype='object')"
      ]
     },
     "execution_count": 5,
     "metadata": {},
     "output_type": "execute_result"
    }
   ],
   "source": [
    "test_df.columns"
   ]
  },
  {
   "cell_type": "markdown",
   "id": "8ee56637-f317-4add-8c43-a72981612c18",
   "metadata": {},
   "source": [
    "### Define Timeseries data on test df"
   ]
  },
  {
   "cell_type": "code",
   "execution_count": 6,
   "id": "77ac6d87-e907-47e5-b93a-02eb070058af",
   "metadata": {},
   "outputs": [],
   "source": [
    "class DataWindow:\n",
    "    def __init__(self, input_width, label_width, shift, test_df, label_columns=None):\n",
    "        self.test_df = test_df\n",
    "        self.label_columns = label_columns\n",
    "        if label_columns is not None:\n",
    "            self.label_columns_indices = {name: i for i, name in enumerate(label_columns)}\n",
    "        self.column_indices = {name: i for i, name in enumerate(test_df.columns)}\n",
    "        self.input_width = input_width\n",
    "        self.label_width = label_width\n",
    "        self.shift = shift\n",
    "        self.total_window_size = input_width + shift\n",
    "        self.input_slice = slice(0, input_width)\n",
    "        self.input_indices = np.arange(self.total_window_size)[self.input_slice]\n",
    "        self.label_start = self.total_window_size - self.label_width\n",
    "        self.labels_slice = slice(self.label_start, None)\n",
    "        self.label_indices = np.arange(self.total_window_size)[self.labels_slice]\n",
    "\n",
    "    def split_to_inputs_labels(self, features):\n",
    "        inputs = features[:, self.input_slice, :]\n",
    "        labels = features[:, self.labels_slice, :]\n",
    "        if self.label_columns is not None:\n",
    "            labels = tf.stack(\n",
    "                [labels[:, :, self.column_indices[name]] for name in self.label_columns],\n",
    "                axis=-1\n",
    "            )\n",
    "        inputs.set_shape([None, self.input_width, None])\n",
    "        labels.set_shape([None, self.label_width, None])\n",
    "\n",
    "        return inputs, labels\n",
    "\n",
    "    def make_dataset(self, data):\n",
    "        data = np.array(data, dtype=np.float32)\n",
    "        ds = tf.keras.preprocessing.timeseries_dataset_from_array(\n",
    "            data=data,\n",
    "            targets=None,\n",
    "            sequence_length=self.total_window_size,\n",
    "            sequence_stride=1,\n",
    "            shuffle=True,\n",
    "            batch_size=32\n",
    "        )\n",
    "\n",
    "        ds = ds.map(self.split_to_inputs_labels)\n",
    "        return ds\n",
    "\n",
    "    @property\n",
    "    def test(self):\n",
    "        return self.make_dataset(self.test_df)\n",
    "   "
   ]
  },
  {
   "cell_type": "markdown",
   "id": "b645717f-59eb-445e-b3d9-5571490075f7",
   "metadata": {},
   "source": [
    "#### Predictions"
   ]
  },
  {
   "cell_type": "code",
   "execution_count": 7,
   "id": "b2d49237-c4f7-4df4-a465-751f034c35ef",
   "metadata": {},
   "outputs": [],
   "source": [
    "def predict(days: int):\n",
    "    custom_mo_wide_window = DataWindow(input_width=days, label_width=days, shift=days, test_df=test_df,\n",
    "                                       label_columns=['precip','rain_sum ','river_discharge'])\n",
    "\n",
    "    predicted_results = rajshahi_model.predict(custom_mo_wide_window.test)\n",
    "    predicted_array= predicted_results[0]\n",
    "\n",
    "    predicted_numpy_array = np.array(predicted_array)\n",
    "\n",
    "    df_scaled = pd.DataFrame(predicted_numpy_array)\n",
    "\n",
    "    df = df_scaled.rename(columns={0: \"river_discharge\", 1: \"rain_sum \",2:\"precip\"})\n",
    "    \n",
    "    RD_max_train = 64119.98 \n",
    "    RD_min_train = 947.42\n",
    "    RD_max_test =  41019.4\n",
    "    RD_min_test =  77.7\n",
    "\n",
    "    R_max_train = 150.6\n",
    "    R_min_train = 0.0\n",
    "    R_max_test = 49.9\n",
    "    R_min_test = 0.0\n",
    "\n",
    "    P_max_train = 68.6\n",
    "    P_min_train = 0.0\n",
    "    P_max_test = 4.297\n",
    "    P_min_test = 0.0\n",
    "\n",
    "   \n",
    "    \n",
    "    df['river_discharge'] = df['river_discharge'].apply(lambda x: x*(RD_max_train - RD_min_train) + RD_min_train)\n",
    "    df['rain_sum '] = df['rain_sum '].apply(lambda x: x*(R_max_train - R_min_train) + R_min_train)\n",
    "    df['precip'] = df['precip'].apply(lambda x: x*(P_max_train - P_min_train) + P_min_train)\n",
    "    df['floods'] = df['precip'] >2;\n",
    "                      \n",
    "    return df\n"
   ]
  },
  {
   "cell_type": "code",
   "execution_count": 8,
   "id": "3d6c31bc-7995-40c1-af9c-cb89f801d5a9",
   "metadata": {},
   "outputs": [
    {
     "name": "stdout",
     "output_type": "stream",
     "text": [
      "13/13 [==============================] - 1s 3ms/step\n"
     ]
    },
    {
     "data": {
      "text/html": [
       "<div>\n",
       "<style scoped>\n",
       "    .dataframe tbody tr th:only-of-type {\n",
       "        vertical-align: middle;\n",
       "    }\n",
       "\n",
       "    .dataframe tbody tr th {\n",
       "        vertical-align: top;\n",
       "    }\n",
       "\n",
       "    .dataframe thead th {\n",
       "        text-align: right;\n",
       "    }\n",
       "</style>\n",
       "<table border=\"1\" class=\"dataframe\">\n",
       "  <thead>\n",
       "    <tr style=\"text-align: right;\">\n",
       "      <th></th>\n",
       "      <th>river_discharge</th>\n",
       "      <th>rain_sum</th>\n",
       "      <th>precip</th>\n",
       "      <th>floods</th>\n",
       "    </tr>\n",
       "  </thead>\n",
       "  <tbody>\n",
       "    <tr>\n",
       "      <th>0</th>\n",
       "      <td>2161.407401</td>\n",
       "      <td>2.590979</td>\n",
       "      <td>3.194046</td>\n",
       "      <td>True</td>\n",
       "    </tr>\n",
       "    <tr>\n",
       "      <th>1</th>\n",
       "      <td>1402.296724</td>\n",
       "      <td>0.746257</td>\n",
       "      <td>2.941358</td>\n",
       "      <td>True</td>\n",
       "    </tr>\n",
       "    <tr>\n",
       "      <th>2</th>\n",
       "      <td>2171.787019</td>\n",
       "      <td>1.356282</td>\n",
       "      <td>3.766638</td>\n",
       "      <td>True</td>\n",
       "    </tr>\n",
       "    <tr>\n",
       "      <th>3</th>\n",
       "      <td>1993.463659</td>\n",
       "      <td>-0.113032</td>\n",
       "      <td>2.939682</td>\n",
       "      <td>True</td>\n",
       "    </tr>\n",
       "    <tr>\n",
       "      <th>4</th>\n",
       "      <td>2006.134627</td>\n",
       "      <td>1.299187</td>\n",
       "      <td>2.251513</td>\n",
       "      <td>True</td>\n",
       "    </tr>\n",
       "    <tr>\n",
       "      <th>5</th>\n",
       "      <td>2109.867143</td>\n",
       "      <td>-1.081848</td>\n",
       "      <td>1.968287</td>\n",
       "      <td>False</td>\n",
       "    </tr>\n",
       "    <tr>\n",
       "      <th>6</th>\n",
       "      <td>2193.979804</td>\n",
       "      <td>-0.590925</td>\n",
       "      <td>2.064361</td>\n",
       "      <td>True</td>\n",
       "    </tr>\n",
       "    <tr>\n",
       "      <th>7</th>\n",
       "      <td>1560.751479</td>\n",
       "      <td>-2.425242</td>\n",
       "      <td>2.382535</td>\n",
       "      <td>True</td>\n",
       "    </tr>\n",
       "    <tr>\n",
       "      <th>8</th>\n",
       "      <td>1973.833214</td>\n",
       "      <td>0.187619</td>\n",
       "      <td>2.314656</td>\n",
       "      <td>True</td>\n",
       "    </tr>\n",
       "    <tr>\n",
       "      <th>9</th>\n",
       "      <td>2290.510093</td>\n",
       "      <td>-2.191603</td>\n",
       "      <td>2.531395</td>\n",
       "      <td>True</td>\n",
       "    </tr>\n",
       "    <tr>\n",
       "      <th>10</th>\n",
       "      <td>2289.488617</td>\n",
       "      <td>-3.231562</td>\n",
       "      <td>2.602300</td>\n",
       "      <td>True</td>\n",
       "    </tr>\n",
       "    <tr>\n",
       "      <th>11</th>\n",
       "      <td>2352.055432</td>\n",
       "      <td>-2.272652</td>\n",
       "      <td>2.135792</td>\n",
       "      <td>True</td>\n",
       "    </tr>\n",
       "    <tr>\n",
       "      <th>12</th>\n",
       "      <td>2291.461439</td>\n",
       "      <td>-2.990634</td>\n",
       "      <td>2.182765</td>\n",
       "      <td>True</td>\n",
       "    </tr>\n",
       "    <tr>\n",
       "      <th>13</th>\n",
       "      <td>1878.016640</td>\n",
       "      <td>-2.831279</td>\n",
       "      <td>2.246114</td>\n",
       "      <td>True</td>\n",
       "    </tr>\n",
       "  </tbody>\n",
       "</table>\n",
       "</div>"
      ],
      "text/plain": [
       "    river_discharge  rain_sum     precip  floods\n",
       "0       2161.407401   2.590979  3.194046    True\n",
       "1       1402.296724   0.746257  2.941358    True\n",
       "2       2171.787019   1.356282  3.766638    True\n",
       "3       1993.463659  -0.113032  2.939682    True\n",
       "4       2006.134627   1.299187  2.251513    True\n",
       "5       2109.867143  -1.081848  1.968287   False\n",
       "6       2193.979804  -0.590925  2.064361    True\n",
       "7       1560.751479  -2.425242  2.382535    True\n",
       "8       1973.833214   0.187619  2.314656    True\n",
       "9       2290.510093  -2.191603  2.531395    True\n",
       "10      2289.488617  -3.231562  2.602300    True\n",
       "11      2352.055432  -2.272652  2.135792    True\n",
       "12      2291.461439  -2.990634  2.182765    True\n",
       "13      1878.016640  -2.831279  2.246114    True"
      ]
     },
     "execution_count": 8,
     "metadata": {},
     "output_type": "execute_result"
    }
   ],
   "source": [
    "predict(14)"
   ]
  },
  {
   "cell_type": "code",
   "execution_count": null,
   "id": "7bfd3eb4-7693-40a1-ad50-0dd787c05392",
   "metadata": {},
   "outputs": [],
   "source": []
  }
 ],
 "metadata": {
  "kernelspec": {
   "display_name": "Python 3 (ipykernel)",
   "language": "python",
   "name": "python3"
  },
  "language_info": {
   "codemirror_mode": {
    "name": "ipython",
    "version": 3
   },
   "file_extension": ".py",
   "mimetype": "text/x-python",
   "name": "python",
   "nbconvert_exporter": "python",
   "pygments_lexer": "ipython3",
   "version": "3.11.6"
  }
 },
 "nbformat": 4,
 "nbformat_minor": 5
}
