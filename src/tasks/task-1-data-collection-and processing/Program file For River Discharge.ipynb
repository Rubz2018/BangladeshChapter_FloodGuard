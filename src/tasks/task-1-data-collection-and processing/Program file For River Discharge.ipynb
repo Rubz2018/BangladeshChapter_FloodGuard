            {
 "cells": [
  {
   "cell_type": "markdown",
   "id": "b58a98cc-6950-4a54-b301-e5a45b447d83",
   "metadata": {},
   "source": [
    "Program for collecting the River Discharge Infromation With API"
   ]
  },
  {
   "cell_type": "code",
   "execution_count": 1,
   "id": "0a04ba43-e5a4-4b15-b08c-1c10c0a2f1a4",
   "metadata": {},
   "outputs": [],
   "source": [
    "import requests\n",
    "import pandas as pd"
   ]
  },
  {
   "cell_type": "code",
   "execution_count": 2,
   "id": "b91d2483-9001-4fb3-9207-211cccfa6cb6",
   "metadata": {},
   "outputs": [],
   "source": [
    "#Defining the api path\n",
    "#https://flood-api.open-meteo.com/v1/flood?latitude=59.91&longitude=10.75&daily=river_discharge,river_discharge_mean,river_discharge_max,river_discharge_min&start_date=2010-01-01&end_date=2023-08-01"
   ]
  },
  {
   "cell_type": "code",
   "execution_count": 3,
   "id": "57d43bbf-4a82-427d-b14b-ca3251919776",
   "metadata": {},
   "outputs": [
    {
     "data": {
      "text/plain": [
       "<Response [200]>"
      ]
     },
     "execution_count": 3,
     "metadata": {},
     "output_type": "execute_result"
    }
   ],
   "source": [
    "#requesting this api\n",
    "response=requests.get(\"https://flood-api.open-meteo.com/v1/flood?latitude=59.91&longitude=10.75&daily=river_discharge,river_discharge_mean,river_discharge_max,river_discharge_min&start_date=2010-01-01&end_date=2023-08-01\")\n",
    "response"
   ]
  },
  {
   "cell_type": "code",
   "execution_count": 13,
   "id": "135b3b58-8edb-4220-9117-3d5f51a2d9db",
   "metadata": {},
   "outputs": [],
   "source": [
    "df=pd.DataFrame(response.json()['daily'])"
   ]
  },
  {
   "cell_type": "code",
   "execution_count": 14,
   "id": "07d51914-5026-4102-aa9f-22ec1eb8f4c8",
   "metadata": {},
   "outputs": [
    {
     "data": {
      "text/html": [
       "<div>\n",
       "<style scoped>\n",
       "    .dataframe tbody tr th:only-of-type {\n",
       "        vertical-align: middle;\n",
       "    }\n",
       "\n",
       "    .dataframe tbody tr th {\n",
       "        vertical-align: top;\n",
       "    }\n",
       "\n",
       "    .dataframe thead th {\n",
       "        text-align: right;\n",
       "    }\n",
       "</style>\n",
       "<table border=\"1\" class=\"dataframe\">\n",
       "  <thead>\n",
       "    <tr style=\"text-align: right;\">\n",
       "      <th></th>\n",
       "      <th>time</th>\n",
       "      <th>river_discharge</th>\n",
       "      <th>river_discharge_mean</th>\n",
       "      <th>river_discharge_max</th>\n",
       "      <th>river_discharge_min</th>\n",
       "    </tr>\n",
       "  </thead>\n",
       "  <tbody>\n",
       "    <tr>\n",
       "      <th>0</th>\n",
       "      <td>2010-01-01</td>\n",
       "      <td>3.43</td>\n",
       "      <td>NaN</td>\n",
       "      <td>3.43</td>\n",
       "      <td>3.43</td>\n",
       "    </tr>\n",
       "    <tr>\n",
       "      <th>1</th>\n",
       "      <td>2010-01-02</td>\n",
       "      <td>3.36</td>\n",
       "      <td>NaN</td>\n",
       "      <td>3.36</td>\n",
       "      <td>3.36</td>\n",
       "    </tr>\n",
       "    <tr>\n",
       "      <th>2</th>\n",
       "      <td>2010-01-03</td>\n",
       "      <td>3.35</td>\n",
       "      <td>NaN</td>\n",
       "      <td>3.35</td>\n",
       "      <td>3.35</td>\n",
       "    </tr>\n",
       "    <tr>\n",
       "      <th>3</th>\n",
       "      <td>2010-01-04</td>\n",
       "      <td>3.32</td>\n",
       "      <td>NaN</td>\n",
       "      <td>3.32</td>\n",
       "      <td>3.32</td>\n",
       "    </tr>\n",
       "    <tr>\n",
       "      <th>4</th>\n",
       "      <td>2010-01-05</td>\n",
       "      <td>3.29</td>\n",
       "      <td>NaN</td>\n",
       "      <td>3.29</td>\n",
       "      <td>3.29</td>\n",
       "    </tr>\n",
       "    <tr>\n",
       "      <th>...</th>\n",
       "      <td>...</td>\n",
       "      <td>...</td>\n",
       "      <td>...</td>\n",
       "      <td>...</td>\n",
       "      <td>...</td>\n",
       "    </tr>\n",
       "    <tr>\n",
       "      <th>4956</th>\n",
       "      <td>2023-07-28</td>\n",
       "      <td>7.71</td>\n",
       "      <td>1.86</td>\n",
       "      <td>7.71</td>\n",
       "      <td>7.71</td>\n",
       "    </tr>\n",
       "    <tr>\n",
       "      <th>4957</th>\n",
       "      <td>2023-07-29</td>\n",
       "      <td>6.82</td>\n",
       "      <td>2.04</td>\n",
       "      <td>6.82</td>\n",
       "      <td>6.82</td>\n",
       "    </tr>\n",
       "    <tr>\n",
       "      <th>4958</th>\n",
       "      <td>2023-07-30</td>\n",
       "      <td>8.20</td>\n",
       "      <td>1.65</td>\n",
       "      <td>8.20</td>\n",
       "      <td>8.20</td>\n",
       "    </tr>\n",
       "    <tr>\n",
       "      <th>4959</th>\n",
       "      <td>2023-07-31</td>\n",
       "      <td>8.82</td>\n",
       "      <td>1.66</td>\n",
       "      <td>8.82</td>\n",
       "      <td>8.82</td>\n",
       "    </tr>\n",
       "    <tr>\n",
       "      <th>4960</th>\n",
       "      <td>2023-08-01</td>\n",
       "      <td>7.91</td>\n",
       "      <td>1.86</td>\n",
       "      <td>7.91</td>\n",
       "      <td>7.91</td>\n",
       "    </tr>\n",
       "  </tbody>\n",
       "</table>\n",
       "<p>4961 rows × 5 columns</p>\n",
       "</div>"
      ],
      "text/plain": [
       "            time  river_discharge  river_discharge_mean  river_discharge_max  \\\n",
       "0     2010-01-01             3.43                   NaN                 3.43   \n",
       "1     2010-01-02             3.36                   NaN                 3.36   \n",
       "2     2010-01-03             3.35                   NaN                 3.35   \n",
       "3     2010-01-04             3.32                   NaN                 3.32   \n",
       "4     2010-01-05             3.29                   NaN                 3.29   \n",
       "...          ...              ...                   ...                  ...   \n",
       "4956  2023-07-28             7.71                  1.86                 7.71   \n",
       "4957  2023-07-29             6.82                  2.04                 6.82   \n",
       "4958  2023-07-30             8.20                  1.65                 8.20   \n",
       "4959  2023-07-31             8.82                  1.66                 8.82   \n",
       "4960  2023-08-01             7.91                  1.86                 7.91   \n",
       "\n",
       "      river_discharge_min  \n",
       "0                    3.43  \n",
       "1                    3.36  \n",
       "2                    3.35  \n",
       "3                    3.32  \n",
       "4                    3.29  \n",
       "...                   ...  \n",
       "4956                 7.71  \n",
       "4957                 6.82  \n",
       "4958                 8.20  \n",
       "4959                 8.82  \n",
       "4960                 7.91  \n",
       "\n",
       "[4961 rows x 5 columns]"
      ]
     },
     "execution_count": 14,
     "metadata": {},
     "output_type": "execute_result"
    }
   ],
   "source": [
    "df"
   ]
  },
  {
   "cell_type": "code",
   "execution_count": 10,
   "id": "2f75177e-264e-4812-a776-945ee1dec6ec",
   "metadata": {},
   "outputs": [
    {
     "data": {
      "text/plain": [
       "time                       0\n",
       "river_discharge            0\n",
       "river_discharge_mean    4687\n",
       "river_discharge_max        0\n",
       "river_discharge_min        0\n",
       "dtype: int64"
      ]
     },
     "execution_count": 10,
     "metadata": {},
     "output_type": "execute_result"
    }
   ],
   "source": [
    "df.isnull().sum()"
   ]
  },
  {
   "cell_type": "code",
   "execution_count": 18,
   "id": "b7d637e1-542d-453f-94cd-87a1b2ded10c",
   "metadata": {},
   "outputs": [
    {
     "data": {
      "text/plain": [
       "4961"
      ]
     },
     "execution_count": 18,
     "metadata": {},
     "output_type": "execute_result"
    }
   ],
   "source": [
    "df['river_discharge'].count()"
   ]
  },
  {
   "cell_type": "code",
   "execution_count": 19,
   "id": "e0ee8fdc-ec1b-4bd9-bab2-b08ab1a9ed54",
   "metadata": {},
   "outputs": [
    {
     "data": {
      "text/plain": [
       "274"
      ]
     },
     "execution_count": 19,
     "metadata": {},
     "output_type": "execute_result"
    }
   ],
   "source": [
    "df['river_discharge_mean'].count()"
   ]
  },
  {
   "cell_type": "code",
   "execution_count": 24,
   "id": "b9c2ef7e-573a-4480-986d-ac3420598979",
   "metadata": {},
   "outputs": [],
   "source": [
    "#conclusion :- we dosn't need to consider the mean value because in this the imbalanced feature\n",
    "# Another min& max is same like river-discharge so we only need river discharge so we can remove these from api parameter\n",
    "\n",
    "#Ans i like to autome this because its about only 1 city and we need for 10 cityes then "
   ]
  },
  {
   "cell_type": "code",
   "execution_count": 25,
   "id": "794ed528-9f1d-4839-8310-9a1820be665c",
   "metadata": {},
   "outputs": [],
   "source": [
    "#City and its longitude details\n",
    "city={'Dhaka':[23.8103,90.4125],'Chittagong':[22.3569,91.7832],'Rajshahi':[24.3740,88.6042],\n",
    "      'Barisal':[22.7020,90.3466],'Khulna':[22.8456,89.5403],'Narayanganj':[23.6337,90.5000],\n",
    "      'Mymensigh':[24.7471,90.4203],'Sylhet':[24.8949,91.8687],'Comilla':[23.4619,91.1859],'Bogra':[24.8483,89.3773]}"
   ]
  },
  {
   "cell_type": "code",
   "execution_count": 31,
   "id": "032f8743-f557-4537-b0f0-50e84bb33ded",
   "metadata": {},
   "outputs": [],
   "source": [
    "city_list=list(city.keys())"
   ]
  },
  {
   "cell_type": "code",
   "execution_count": 33,
   "id": "6f6d054f-28ef-4524-a1ba-a6799ca0129d",
   "metadata": {},
   "outputs": [
    {
     "data": {
      "text/plain": [
       "['Dhaka',\n",
       " 'Chittagong',\n",
       " 'Rajshahi',\n",
       " 'Barisal',\n",
       " 'Khulna',\n",
       " 'Narayanganj',\n",
       " 'Mymensigh',\n",
       " 'Sylhet',\n",
       " 'Comilla',\n",
       " 'Bogra']"
      ]
     },
     "execution_count": 33,
     "metadata": {},
     "output_type": "execute_result"
    }
   ],
   "source": [
    "city_list"
   ]
  },
  {
   "cell_type": "code",
   "execution_count": 34,
   "id": "c181c090-b97c-46eb-b3bb-251022213d3d",
   "metadata": {},
   "outputs": [],
   "source": [
    "Location=list(city.values())"
   ]
  },
  {
   "cell_type": "code",
   "execution_count": 35,
   "id": "269d77d4-78a4-4e31-806f-045833f9ec06",
   "metadata": {},
   "outputs": [
    {
     "data": {
      "text/plain": [
       "[[23.8103, 90.4125],\n",
       " [22.3569, 91.7832],\n",
       " [24.374, 88.6042],\n",
       " [22.702, 90.3466],\n",
       " [22.8456, 89.5403],\n",
       " [23.6337, 90.5],\n",
       " [24.7471, 90.4203],\n",
       " [24.8949, 91.8687],\n",
       " [23.4619, 91.1859],\n",
       " [24.8483, 89.3773]]"
      ]
     },
     "execution_count": 35,
     "metadata": {},
     "output_type": "execute_result"
    }
   ],
   "source": [
    "Location"
   ]
  },
  {
   "cell_type": "code",
   "execution_count": 37,
   "id": "5119e966-ae47-4c6d-89f8-c95126b43fd4",
   "metadata": {},
   "outputs": [
    {
     "name": "stdout",
     "output_type": "stream",
     "text": [
      "Dhaka\n",
      "Chittagong\n",
      "Rajshahi\n",
      "Barisal\n",
      "Khulna\n",
      "Narayanganj\n",
      "Mymensigh\n",
      "Sylhet\n",
      "Comilla\n",
      "Bogra\n"
     ]
    }
   ],
   "source": [
    "for i in city_list:\n",
    "    print(i)"
   ]
  },
  {
   "cell_type": "code",
   "execution_count": 43,
   "id": "b145d300-0ce1-42eb-801f-bd2138d8f6ee",
   "metadata": {},
   "outputs": [],
   "source": [
    "#get data for ecah city according to its lati&longi detail and after that saving the file with city name"
   ]
  },
  {
   "cell_type": "code",
   "execution_count": 42,
   "id": "c39e205c-c58c-4a6e-8499-4ba7f33e8b2f",
   "metadata": {},
   "outputs": [
    {
     "name": "stdout",
     "output_type": "stream",
     "text": [
      "Dhaka\n",
      "Chittagong\n",
      "Rajshahi\n",
      "Barisal\n",
      "Khulna\n",
      "Narayanganj\n",
      "Mymensigh\n",
      "Sylhet\n",
      "Comilla\n",
      "Bogra\n"
     ]
    }
   ],
   "source": [
    "z=0\n",
    "for i in range(10):\n",
    "    print(city_list[i])\n",
    "    response = requests.get(\"https://flood-api.open-meteo.com/v1/flood?latitude={}&longitude={}&daily=river_discharge,&start_date=2009-01-01&end_date=2023-08-17\".format(Location[i][z],Location[i][z+1]))\n",
    "    data = pd.DataFrame(response.json()['daily'])\n",
    "    city_name=\"{}.csv\".format(city_list[i])\n",
    "    data.to_csv(city_name, index=False)"
   ]
  },
  {
   "cell_type": "code",
   "execution_count": null,
   "id": "8580ea50-fe1c-4430-816f-a6cbe20cdcb0",
   "metadata": {},
   "outputs": [],
   "source": []
  }
 ],
 "metadata": {
  "kernelspec": {
   "display_name": "Python 3 (ipykernel)",
   "language": "python",
   "name": "python3"
  },
  "language_info": {
   "codemirror_mode": {
    "name": "ipython",
    "version": 3
   },
   "file_extension": ".py",
   "mimetype": "text/x-python",
   "name": "python",
   "nbconvert_exporter": "python",
   "pygments_lexer": "ipython3",
   "version": "3.11.5"
  }
 },
 "nbformat": 4,
 "nbformat_minor": 5
}
