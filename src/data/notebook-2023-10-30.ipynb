{
 "cells": [
  {
   "cell_type": "code",
   "execution_count": 1,
   "id": "4fb652dd",
   "metadata": {},
   "outputs": [],
   "source": [
    "!pip install -q dagshub"
   ]
  },
  {
   "cell_type": "code",
   "execution_count": 2,
   "id": "6f66b668",
   "metadata": {},
   "outputs": [],
   "source": [
    "from dagshub.notebook import save_notebook"
   ]
  },
  {
   "cell_type": "code",
   "execution_count": 3,
   "id": "e56720df",
   "metadata": {},
   "outputs": [],
   "source": [
    "save_notebook(repo=\"Omdena/BangladeshChapter_FloodGuard\", path=\"src/data\")"
   ]
  },
  {
   "cell_type": "code",
   "execution_count": 4,
   "id": "5c31be6a",
   "metadata": {},
   "outputs": [],
   "source": [
    "save_notebook(repo=\"Omdena/BangladeshChapter_FloodGuard\", path=\"src/data\")"
   ]
  },
  {
   "cell_type": "code",
   "execution_count": 5,
   "id": "445f8f82",
   "metadata": {},
   "outputs": [],
   "source": [
    "import os\n",
    "\n",
    "new_directory = 'E:\\dagshub'\n",
    "os.chdir(new_directory)"
   ]
  }
 ],
 "metadata": {},
 "nbformat": 4,
 "nbformat_minor": 5
}
